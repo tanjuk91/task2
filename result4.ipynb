{
 "cells": [
  {
   "cell_type": "markdown",
   "id": "b26c836b",
   "metadata": {},
   "source": [
    "# Classification. Linear models and KNN"
   ]
  },
  {
   "cell_type": "code",
   "execution_count": 228,
   "id": "fdab168f",
   "metadata": {},
   "outputs": [],
   "source": [
    "import os\n",
    "import numpy as np\n",
    "import pandas as pd\n",
    "import seaborn as sns\n",
    "import matplotlib.pyplot as plt\n",
    "pd.plotting.register_matplotlib_converters()\n",
    "%matplotlib inline"
   ]
  },
  {
   "cell_type": "code",
   "execution_count": 229,
   "id": "6a66b07a",
   "metadata": {},
   "outputs": [],
   "source": [
    "from sklearn.pipeline import Pipeline\n",
    "from sklearn.compose import ColumnTransformer\n",
    "from sklearn.model_selection import train_test_split, cross_validate\n",
    "from sklearn.metrics import plot_confusion_matrix, accuracy_score\n",
    "from sklearn.neighbors import KNeighborsClassifier\n",
    "from sklearn.preprocessing import StandardScaler, OneHotEncoder"
   ]
  },
  {
   "cell_type": "markdown",
   "id": "b91ba17b",
   "metadata": {},
   "source": [
    "# Part 1: Implementing Logistic Regression"
   ]
  },
  {
   "cell_type": "markdown",
   "id": "daae3207",
   "metadata": {},
   "source": [
    "(2 points) Implement the algorithm and use it to classify the digits (https://scikit-learn.org/stable/modules/generated/sklearn.datasets.load_digits.html) into \"even\" and \"odd\" categories. \"Even\" and \"Odd\" classes should correspond to {-1, 1} labels."
   ]
  },
  {
   "cell_type": "code",
   "execution_count": 1143,
   "id": "8e573678",
   "metadata": {},
   "outputs": [],
   "source": [
    "from sklearn.exceptions import NotFittedError\n",
    "from math import e\n",
    "import math"
   ]
  },
  {
   "cell_type": "code",
   "execution_count": 1653,
   "id": "9c381c3a",
   "metadata": {},
   "outputs": [],
   "source": [
    "class CustomLogisticRegression:\n",
    "    _estimator_type = \"classifier\"\n",
    "   \n",
    "    def __init__(self, eta=0.001, max_iter=1000, C=1.0, tol=1e-5, random_state=42, zero_init=False):\n",
    "        self.eta = eta\n",
    "        self.max_iter = max_iter\n",
    "        self.C = C\n",
    "        self.tol = tol\n",
    "        self.random_state = np.random.RandomState(seed=random_state)\n",
    "        self.zero_init = zero_init\n",
    "        self.res_loss=[] \n",
    "    def get_sigmoid(self, X, weights):\n",
    "        \"\"\"Compute the sigmoid value.\"\"\"\n",
    "        self.X=X\n",
    "        self.weights=weights\n",
    "        get_mult=self.X*self.weights\n",
    "        odds=np.sum(get_mult, axis=1)\n",
    "        res=[]\n",
    "        for i in odds:\n",
    "            res.append(1/(1+e**(-i)))\n",
    "        return res  \n",
    "    \n",
    "    def get_loss(self, x, weights, y):\n",
    "        \"\"\"Calculate the loss.\"\"\"\n",
    "        loss= np.mean(np.log(1+np.exp(-np.dot(x,weights)*y)))+(1/(2*self.C))*\\\n",
    "        np.amin((np.linalg.norm(self.weights_)**2))\n",
    "        return loss\n",
    "        \n",
    "    def fit(self, X, y):\n",
    "        \"\"\"Fit the model.\n",
    "        \n",
    "        Args:\n",
    "            X: numpy array of shape (n_samples, n_features)\n",
    "            y: numpy array of shape (n_samples,)\n",
    "                Target vector.        \n",
    "        \"\"\"\n",
    "        X_ext = np.hstack([np.ones((X.shape[0], 1)), X]) # a constant feature is included to handle intercept\n",
    "        num_features = X_ext.shape[1]\n",
    "        if self.zero_init:\n",
    "            self.weights_ = np.zeros(num_features) \n",
    "        else:\n",
    "            weight_threshold = 1.0 / (2 * num_features)\n",
    "            self.weights_ = self.random_state.uniform(low=-weight_threshold,\n",
    "                                                      high=weight_threshold, size=num_features) # random weight init\n",
    "        \n",
    "        for i in range(self.max_iter):\n",
    "            delta=self.weights_/self.C -np.sum(X_ext.T*y*(1-1/(1+np.exp(-np.dot(X_ext,self.weights_)* y))),\\\n",
    "                                               axis=1)/y.shape[0]+self.weights_\n",
    "            self.res_loss.append(np.mean(get_loss(self, X_ext, self.weights_, y )))\n",
    "            self.weights_ -= self.eta * delta\n",
    "            \n",
    "            if i>self.max_iter or np.linalg.norm(self.eta*delta)<self.tol:\n",
    "                break\n",
    "     \n",
    "    def predict_proba(self, X):\n",
    "        \"\"\"Predict positive class probabilities.\n",
    "        \n",
    "        Args:\n",
    "            X: numpy array of shape (n_samples, n_features)\n",
    "        Returns:\n",
    "            y: numpy array of shape (n_samples,)\n",
    "                Vector containing positive class probabilities.\n",
    "        \"\"\"\n",
    "        X_ext = np.hstack([np.ones((X.shape[0], 1)), X])\n",
    "        if hasattr(self, 'weights_'):\n",
    "            return self.get_sigmoid(X_ext, self.weights_)\n",
    "        else: \n",
    "            raise NotFittedError(\"CustomLogisticRegression instance is not fitted yet\")\n",
    "    \n",
    "    def predict(self, X):\n",
    "        \"\"\"Predict classes.\n",
    "        \n",
    "        Args:\n",
    "            X: numpy array of shape (n_samples, n_features)\n",
    "        Returns:\n",
    "            y: numpy array of shape (n_samples,)\n",
    "                Vector containing predicted class labels.\n",
    "        \"\"\"\n",
    "        # <your code>\n",
    "        res=[]\n",
    "        for i in self.predict_proba(X):\n",
    "            if i >0.5:\n",
    "                res.append(1)\n",
    "            else:\n",
    "                res.append(-1)\n",
    "        return res"
   ]
  },
  {
   "cell_type": "code",
   "execution_count": 1654,
   "id": "1326345a",
   "metadata": {},
   "outputs": [],
   "source": [
    "from sklearn import datasets\n",
    "from sklearn import metrics"
   ]
  },
  {
   "cell_type": "code",
   "execution_count": 1655,
   "id": "30cb3c47",
   "metadata": {},
   "outputs": [
    {
     "data": {
      "image/png": "[encoded data removed]",
      "text/plain": [
       "<Figure size 720x360 with 21 Axes>"
      ]
     },
     "metadata": {
      "needs_background": "light"
     },
     "output_type": "display_data"
    }
   ],
   "source": [
    "X, y = datasets.load_digits(n_class=10, return_X_y=True)\n",
    "\n",
    "_, axes = plt.subplots(nrows=3, ncols=7, figsize=(10, 5))\n",
    "for ax, image, label in zip(axes.flatten(), X, y):\n",
    "    ax.set_axis_off()\n",
    "    ax.imshow(image.reshape((8, 8)), cmap=plt.cm.gray_r if label % 2 else plt.cm.afmhot_r)\n",
    "    ax.set_title(label)\n",
    "\n",
    "X_train, X_test, y_train, y_test = train_test_split(X, y, test_size=0.2, shuffle=True, random_state=42)\n",
    "#y_train = \"<your code>\"\n",
    "#y_test = \"<your code>\"\n",
    "y_train = (y_train % 2) * 2 - 1\n",
    "y_test = (y_test % 2) * 2 - 1"
   ]
  },
  {
   "cell_type": "code",
   "execution_count": 1656,
   "id": "42e2647c",
   "metadata": {},
   "outputs": [],
   "source": [
    "assert (np.unique(y_train) == [-1, 1]).all()\n",
    "assert (np.unique(y_test) == [-1, 1]).all()"
   ]
  },
  {
   "cell_type": "code",
   "execution_count": 1657,
   "id": "de4b9be2",
   "metadata": {},
   "outputs": [],
   "source": [
    "def fit_evaluate(clf, X_train, y_train, X_test, y_test):\n",
    "    clf.fit(X_train, y_train)\n",
    "    disp = metrics.plot_confusion_matrix(clf, X_test, y_test, normalize='true')\n",
    "    disp.figure_.suptitle(\"Confusion Matrix\")\n",
    "    plt.show()\n",
    "    \n",
    "    return metrics.accuracy_score(y_pred=clf.predict(X_train), y_true=y_train), \\\n",
    "           metrics.accuracy_score(y_pred=clf.predict(X_test), y_true=y_test)"
   ]
  },
  {
   "cell_type": "code",
   "execution_count": 1658,
   "id": "dbed0758",
   "metadata": {},
   "outputs": [],
   "source": [
    "lr_clf = CustomLogisticRegression(max_iter=1, zero_init=True)"
   ]
  },
  {
   "cell_type": "code",
   "execution_count": 1659,
   "id": "f4573932",
   "metadata": {},
   "outputs": [],
   "source": [
    "assert np.allclose(lr_clf.get_sigmoid(np.array([[0.5, 0, 1.0], [0.3, 1.3, 1.0]]), np.array([0.5, -0.5, 0.1])),\n",
    "                   np.array([0.58662, 0.40131]))"
   ]
  },
  {
   "cell_type": "code",
   "execution_count": 1660,
   "id": "f2b6901e",
   "metadata": {},
   "outputs": [],
   "source": [
    "lr_clf.fit(X_train, y_train)"
   ]
  },
  {
   "cell_type": "code",
   "execution_count": 1661,
   "id": "96265d85",
   "metadata": {},
   "outputs": [],
   "source": [
    "assert np.allclose(lr_clf.weights_, np.array([ 3.1000e-06,  0.0000e+00,  4.1800e-05,  5.4770e-04,  2.2130e-04,\n",
    "        4.8750e-04,  1.3577e-03,  5.9780e-04,  5.6400e-05, -7.0000e-07,\n",
    "        1.6910e-04,  2.5190e-04, -4.3700e-04,  3.6190e-04,  1.0049e-03,\n",
    "        4.2280e-04,  2.5700e-05,  3.0000e-07, -1.1500e-05, -7.2440e-04,\n",
    "       -2.6200e-04,  8.7540e-04,  4.1540e-04, -8.4200e-05, -5.2000e-06,\n",
    "        0.0000e+00, -2.2160e-04, -5.7130e-04,  9.8570e-04,  1.3507e-03,\n",
    "        5.0210e-04, -1.7050e-04, -1.0000e-06,  0.0000e+00, -6.7810e-04,\n",
    "       -1.0515e-03, -4.4500e-05,  3.7160e-04,  4.2100e-04, -8.1800e-05,\n",
    "        0.0000e+00, -5.2000e-06, -5.3410e-04, -2.0393e-03, -8.4310e-04,\n",
    "        1.0400e-04, -1.2390e-04, -1.7880e-04, -1.3200e-05, -4.5000e-06,\n",
    "       -9.4300e-05, -1.1127e-03, -5.0900e-04, -2.1850e-04, -5.6050e-04,\n",
    "       -3.9560e-04, -1.7700e-05, -3.0000e-07,  2.6800e-05,  6.3920e-04,\n",
    "        1.8090e-04, -7.3660e-04, -5.3930e-04, -3.7060e-04, -2.8200e-05]), atol=1e-5)"
   ]
  },
  {
   "cell_type": "code",
   "execution_count": 1662,
   "id": "dc67dbea",
   "metadata": {},
   "outputs": [],
   "source": [
    "model = CustomLogisticRegression()"
   ]
  },
  {
   "cell_type": "code",
   "execution_count": 1663,
   "id": "3dd7c599",
   "metadata": {},
   "outputs": [
    {
     "name": "stderr",
     "output_type": "stream",
     "text": [
      "C:\\Users\\YK\\miniconda3\\lib\\site-packages\\sklearn\\utils\\deprecation.py:87: FutureWarning: Function plot_confusion_matrix is deprecated; Function `plot_confusion_matrix` is deprecated in 1.0 and will be removed in 1.2. Use one of the class methods: ConfusionMatrixDisplay.from_predictions or ConfusionMatrixDisplay.from_estimator.\n",
      "  warnings.warn(msg, category=FutureWarning)\n"
     ]
    },
    {
     "data": {
      "image/png": "[encoded data removed]",
      "text/plain": [
       "<Figure size 432x288 with 2 Axes>"
      ]
     },
     "metadata": {
      "needs_background": "light"
     },
     "output_type": "display_data"
    }
   ],
   "source": [
    "train_acc, test_acc = fit_evaluate(model, X_train, y_train, X_test, y_test)"
   ]
  },
  {
   "cell_type": "code",
   "execution_count": 1664,
   "id": "161884d5",
   "metadata": {},
   "outputs": [
    {
     "data": {
      "text/plain": [
       "(0.9039665970772442, 0.9277777777777778)"
      ]
     },
     "execution_count": 1664,
     "metadata": {},
     "output_type": "execute_result"
    }
   ],
   "source": [
    "train_acc, test_acc"
   ]
  },
  {
   "cell_type": "code",
   "execution_count": 1665,
   "id": "811f8627",
   "metadata": {},
   "outputs": [],
   "source": [
    "assert min(train_acc, test_acc) > 0.9"
   ]
  },
  {
   "cell_type": "markdown",
   "id": "59cc2d71",
   "metadata": {},
   "source": [
    "(0.5 points) Visualize the loss history."
   ]
  },
  {
   "cell_type": "code",
   "execution_count": 1666,
   "id": "0535e57c",
   "metadata": {},
   "outputs": [
    {
     "data": {
      "image/png": "[encoded data removed]",
      "text/plain": [
       "<Figure size 648x324 with 1 Axes>"
      ]
     },
     "metadata": {
      "needs_background": "light"
     },
     "output_type": "display_data"
    }
   ],
   "source": [
    "iters = np.linspace(1, len(model.res_loss),len(model.res_loss) , dtype=int)\n",
    "plt.figure(figsize=(9, 4.5))\n",
    "plt.plot(iters, model.res_loss , label='Training')\n",
    "plt.title('loss history')\n",
    "plt.xlabel('итерации')\n",
    "plt.ylabel('loss')\n",
    "plt.grid(True)\n",
    "plt.show()"
   ]
  },
  {
   "cell_type": "markdown",
   "id": "3350462e",
   "metadata": {},
   "source": [
    "(0.5 points) Try different learning rates and compare the results. How does the learning rate influence the convergence?"
   ]
  },
  {
   "cell_type": "code",
   "execution_count": 1667,
   "id": "273fb016",
   "metadata": {},
   "outputs": [],
   "source": [
    "etas=np.linspace(0.00001, 0.1, 1 + 40)\n",
    "train, test=[],[]\n",
    "for i in etas:\n",
    "    model = CustomLogisticRegression(eta=i)\n",
    "    model.fit(X_train, y_train)\n",
    "    train.append(metrics.accuracy_score(y_pred=model.predict(X_train), y_true=y_train))\n",
    "    test.append(metrics.accuracy_score(y_pred=model.predict(X_test), y_true=y_test))"
   ]
  },
  {
   "cell_type": "code",
   "execution_count": 1668,
   "id": "1a8be6b7",
   "metadata": {},
   "outputs": [
    {
     "data": {
      "image/png": "[encoded data removed]",
      "text/plain": [
       "<Figure size 648x324 with 1 Axes>"
      ]
     },
     "metadata": {
      "needs_background": "light"
     },
     "output_type": "display_data"
    }
   ],
   "source": [
    "plt.figure(figsize=(9, 4.5))\n",
    "plt.plot(etas, train, label='Training')\n",
    "plt.plot(etas, test, color='C1', label='Test')\n",
    "plt.title(\"learning rate influence on result\")\n",
    "plt.xlabel('learning rate')\n",
    "plt.ylabel('accyracy')\n",
    "plt.grid(True) \n",
    "plt.legend(loc='center left') \n",
    "plt.show()\n",
    "    "
   ]
  },
  {
   "cell_type": "markdown",
   "id": "d0e97a2c",
   "metadata": {},
   "source": [
    "Вывод: с увеличением коэффициента скорости обучения точность снижается одинаково и в тесте, и в трейне"
   ]
  },
  {
   "cell_type": "markdown",
   "id": "cce2eb8a",
   "metadata": {},
   "source": [
    "(0.5 points) Try different regularization parameter values and compare the model quality."
   ]
  },
  {
   "cell_type": "code",
   "execution_count": 1669,
   "id": "6f3985d2",
   "metadata": {},
   "outputs": [
    {
     "name": "stderr",
     "output_type": "stream",
     "text": [
      "C:\\Users\\YK\\AppData\\Local\\Temp/ipykernel_17224/3469516164.py:47: RuntimeWarning: overflow encountered in exp\n",
      "  delta=self.weights_/self.C -np.sum(X_ext.T*y*(1-1/(1+np.exp(-np.dot(X_ext,self.weights_)* y))),\\\n",
      "C:\\Users\\YK\\AppData\\Local\\Temp/ipykernel_17224/1315992229.py:4: RuntimeWarning: overflow encountered in exp\n",
      "  return (np.log(1+np.exp(-np.dot(x,self.weights_)*y))/len(y)+1/(2*self.C)\\\n",
      "C:\\Users\\YK\\AppData\\Local\\Temp/ipykernel_17224/1315992229.py:4: RuntimeWarning: overflow encountered in double_scalars\n",
      "  return (np.log(1+np.exp(-np.dot(x,self.weights_)*y))/len(y)+1/(2*self.C)\\\n",
      "C:\\Users\\YK\\AppData\\Local\\Temp/ipykernel_17224/3469516164.py:47: RuntimeWarning: overflow encountered in true_divide\n",
      "  delta=self.weights_/self.C -np.sum(X_ext.T*y*(1-1/(1+np.exp(-np.dot(X_ext,self.weights_)* y))),\\\n"
     ]
    }
   ],
   "source": [
    "cas=np.linspace(0.01, 100, 1 + 40)\n",
    "train1, test1=[],[]\n",
    "for i in etas:\n",
    "    model = CustomLogisticRegression(C=i)\n",
    "    model.fit(X_train, y_train)\n",
    "    train1.append(metrics.accuracy_score(y_pred=model.predict(X_train), y_true=y_train))\n",
    "    test1.append(metrics.accuracy_score(y_pred=model.predict(X_test), y_true=y_test))"
   ]
  },
  {
   "cell_type": "code",
   "execution_count": 1670,
   "id": "71625b00",
   "metadata": {},
   "outputs": [
    {
     "data": {
      "image/png": "[encoded data removed]",
      "text/plain": [
       "<Figure size 648x324 with 1 Axes>"
      ]
     },
     "metadata": {
      "needs_background": "light"
     },
     "output_type": "display_data"
    }
   ],
   "source": [
    "plt.figure(figsize=(9, 4.5))\n",
    "plt.plot(cas, train1, label='Training')\n",
    "plt.plot(cas, test1, color='C1', label='Test')\n",
    "plt.xlabel('regularization parameter values')\n",
    "plt.ylabel('accyracy')\n",
    "plt.grid(True)  \n",
    "plt.legend(loc='center left') \n",
    "plt.show()"
   ]
  },
  {
   "cell_type": "markdown",
   "id": "35f66c60",
   "metadata": {},
   "source": [
    "выводы: с увеличением силы регуляризации точность предсказания растет"
   ]
  },
  {
   "cell_type": "markdown",
   "id": "b8abb359",
   "metadata": {},
   "source": [
    "(0.5 points) Compare zero initialization and random initialization."
   ]
  },
  {
   "cell_type": "code",
   "execution_count": 1671,
   "id": "e216b9d1",
   "metadata": {},
   "outputs": [
    {
     "name": "stderr",
     "output_type": "stream",
     "text": [
      "C:\\Users\\YK\\miniconda3\\lib\\site-packages\\sklearn\\utils\\deprecation.py:87: FutureWarning: Function plot_confusion_matrix is deprecated; Function `plot_confusion_matrix` is deprecated in 1.0 and will be removed in 1.2. Use one of the class methods: ConfusionMatrixDisplay.from_predictions or ConfusionMatrixDisplay.from_estimator.\n",
      "  warnings.warn(msg, category=FutureWarning)\n"
     ]
    },
    {
     "data": {
      "image/png": "[encoded data removed]",
      "text/plain": [
       "<Figure size 432x288 with 2 Axes>"
      ]
     },
     "metadata": {
      "needs_background": "light"
     },
     "output_type": "display_data"
    }
   ],
   "source": [
    "model1 = CustomLogisticRegression(zero_init=True)\n",
    "train_acc1, test_acc1 = fit_evaluate(model1, X_train, y_train, X_test, y_test)"
   ]
  },
  {
   "cell_type": "code",
   "execution_count": 1672,
   "id": "9c4b4fa6",
   "metadata": {},
   "outputs": [
    {
     "data": {
      "text/plain": [
       "(0.9039665970772442, 0.9277777777777778)"
      ]
     },
     "execution_count": 1672,
     "metadata": {},
     "output_type": "execute_result"
    }
   ],
   "source": [
    "train_acc1, test_acc1"
   ]
  },
  {
   "cell_type": "markdown",
   "id": "d1223c44",
   "metadata": {},
   "source": [
    "при нулевой инициализации особо ничего не поменялось"
   ]
  },
  {
   "cell_type": "code",
   "execution_count": null,
   "id": "4f199b89",
   "metadata": {},
   "outputs": [],
   "source": []
  },
  {
   "cell_type": "markdown",
   "id": "f6e28758",
   "metadata": {},
   "source": [
    "# Part 3: Synthetic Titanic Survival Prediction"
   ]
  },
  {
   "cell_type": "code",
   "execution_count": 1673,
   "id": "6e9a59fe",
   "metadata": {},
   "outputs": [],
   "source": [
    "PATH = \".\\\\\""
   ]
  },
  {
   "cell_type": "code",
   "execution_count": 1674,
   "id": "93a176f8",
   "metadata": {},
   "outputs": [],
   "source": [
    "data = pd.read_csv(os.path.join(PATH,\"train.csv.zip\"))"
   ]
  },
  {
   "cell_type": "code",
   "execution_count": 1675,
   "id": "c2104082",
   "metadata": {},
   "outputs": [
    {
     "data": {
      "text/html": [
       "<div>\n",
       "<style scoped>\n",
       "    .dataframe tbody tr th:only-of-type {\n",
       "        vertical-align: middle;\n",
       "    }\n",
       "\n",
       "    .dataframe tbody tr th {\n",
       "        vertical-align: top;\n",
       "    }\n",
       "\n",
       "    .dataframe thead th {\n",
       "        text-align: right;\n",
       "    }\n",
       "</style>\n",
       "<table border=\"1\" class=\"dataframe\">\n",
       "  <thead>\n",
       "    <tr style=\"text-align: right;\">\n",
       "      <th></th>\n",
       "      <th>PassengerId</th>\n",
       "      <th>Survived</th>\n",
       "      <th>Pclass</th>\n",
       "      <th>Name</th>\n",
       "      <th>Sex</th>\n",
       "      <th>Age</th>\n",
       "      <th>SibSp</th>\n",
       "      <th>Parch</th>\n",
       "      <th>Ticket</th>\n",
       "      <th>Fare</th>\n",
       "      <th>Cabin</th>\n",
       "      <th>Embarked</th>\n",
       "    </tr>\n",
       "  </thead>\n",
       "  <tbody>\n",
       "    <tr>\n",
       "      <th>0</th>\n",
       "      <td>0</td>\n",
       "      <td>1</td>\n",
       "      <td>1</td>\n",
       "      <td>Oconnor, Frankie</td>\n",
       "      <td>male</td>\n",
       "      <td>NaN</td>\n",
       "      <td>2</td>\n",
       "      <td>0</td>\n",
       "      <td>209245</td>\n",
       "      <td>27.14</td>\n",
       "      <td>C12239</td>\n",
       "      <td>S</td>\n",
       "    </tr>\n",
       "    <tr>\n",
       "      <th>1</th>\n",
       "      <td>1</td>\n",
       "      <td>0</td>\n",
       "      <td>3</td>\n",
       "      <td>Bryan, Drew</td>\n",
       "      <td>male</td>\n",
       "      <td>NaN</td>\n",
       "      <td>0</td>\n",
       "      <td>0</td>\n",
       "      <td>27323</td>\n",
       "      <td>13.35</td>\n",
       "      <td>NaN</td>\n",
       "      <td>S</td>\n",
       "    </tr>\n",
       "    <tr>\n",
       "      <th>2</th>\n",
       "      <td>2</td>\n",
       "      <td>0</td>\n",
       "      <td>3</td>\n",
       "      <td>Owens, Kenneth</td>\n",
       "      <td>male</td>\n",
       "      <td>0.33</td>\n",
       "      <td>1</td>\n",
       "      <td>2</td>\n",
       "      <td>CA 457703</td>\n",
       "      <td>71.29</td>\n",
       "      <td>NaN</td>\n",
       "      <td>S</td>\n",
       "    </tr>\n",
       "    <tr>\n",
       "      <th>3</th>\n",
       "      <td>3</td>\n",
       "      <td>0</td>\n",
       "      <td>3</td>\n",
       "      <td>Kramer, James</td>\n",
       "      <td>male</td>\n",
       "      <td>19.00</td>\n",
       "      <td>0</td>\n",
       "      <td>0</td>\n",
       "      <td>A. 10866</td>\n",
       "      <td>13.04</td>\n",
       "      <td>NaN</td>\n",
       "      <td>S</td>\n",
       "    </tr>\n",
       "    <tr>\n",
       "      <th>4</th>\n",
       "      <td>4</td>\n",
       "      <td>1</td>\n",
       "      <td>3</td>\n",
       "      <td>Bond, Michael</td>\n",
       "      <td>male</td>\n",
       "      <td>25.00</td>\n",
       "      <td>0</td>\n",
       "      <td>0</td>\n",
       "      <td>427635</td>\n",
       "      <td>7.76</td>\n",
       "      <td>NaN</td>\n",
       "      <td>S</td>\n",
       "    </tr>\n",
       "  </tbody>\n",
       "</table>\n",
       "</div>"
      ],
      "text/plain": [
       "   PassengerId  Survived  Pclass              Name   Sex    Age  SibSp  Parch  \\\n",
       "0            0         1       1  Oconnor, Frankie  male    NaN      2      0   \n",
       "1            1         0       3       Bryan, Drew  male    NaN      0      0   \n",
       "2            2         0       3    Owens, Kenneth  male   0.33      1      2   \n",
       "3            3         0       3     Kramer, James  male  19.00      0      0   \n",
       "4            4         1       3     Bond, Michael  male  25.00      0      0   \n",
       "\n",
       "      Ticket   Fare   Cabin Embarked  \n",
       "0     209245  27.14  C12239        S  \n",
       "1      27323  13.35     NaN        S  \n",
       "2  CA 457703  71.29     NaN        S  \n",
       "3   A. 10866  13.04     NaN        S  \n",
       "4     427635   7.76     NaN        S  "
      ]
     },
     "execution_count": 1675,
     "metadata": {},
     "output_type": "execute_result"
    }
   ],
   "source": [
    "data.head()"
   ]
  },
  {
   "cell_type": "code",
   "execution_count": null,
   "id": "61b1780d",
   "metadata": {},
   "outputs": [],
   "source": []
  },
  {
   "cell_type": "code",
   "execution_count": null,
   "id": "42897fbd",
   "metadata": {},
   "outputs": [],
   "source": []
  },
  {
   "cell_type": "code",
   "execution_count": null,
   "id": "8a6b0844",
   "metadata": {},
   "outputs": [],
   "source": []
  },
  {
   "cell_type": "markdown",
   "id": "fac2fc94",
   "metadata": {},
   "source": [
    "# EDA"
   ]
  },
  {
   "cell_type": "markdown",
   "id": "51c75f74",
   "metadata": {},
   "source": [
    "\n",
    "(0.5 points) How many females and males are there in the dataset? What about the survived passengers? Is there any relationship between the gender and the survival?"
   ]
  },
  {
   "cell_type": "code",
   "execution_count": 1676,
   "id": "30fdf409",
   "metadata": {},
   "outputs": [
    {
     "data": {
      "text/html": [
       "<div>\n",
       "<style scoped>\n",
       "    .dataframe tbody tr th:only-of-type {\n",
       "        vertical-align: middle;\n",
       "    }\n",
       "\n",
       "    .dataframe tbody tr th {\n",
       "        vertical-align: top;\n",
       "    }\n",
       "\n",
       "    .dataframe thead th {\n",
       "        text-align: right;\n",
       "    }\n",
       "</style>\n",
       "<table border=\"1\" class=\"dataframe\">\n",
       "  <thead>\n",
       "    <tr style=\"text-align: right;\">\n",
       "      <th></th>\n",
       "      <th>Sex</th>\n",
       "      <th>number</th>\n",
       "    </tr>\n",
       "  </thead>\n",
       "  <tbody>\n",
       "    <tr>\n",
       "      <th>0</th>\n",
       "      <td>female</td>\n",
       "      <td>43886</td>\n",
       "    </tr>\n",
       "    <tr>\n",
       "      <th>1</th>\n",
       "      <td>male</td>\n",
       "      <td>56114</td>\n",
       "    </tr>\n",
       "  </tbody>\n",
       "</table>\n",
       "</div>"
      ],
      "text/plain": [
       "      Sex  number\n",
       "0  female   43886\n",
       "1    male   56114"
      ]
     },
     "execution_count": 1676,
     "metadata": {},
     "output_type": "execute_result"
    }
   ],
   "source": [
    "sex=data.groupby('Sex', as_index=False).agg({'PassengerId':'count'}).rename(columns={'PassengerId':'number'})\n",
    "sex"
   ]
  },
  {
   "cell_type": "code",
   "execution_count": 1677,
   "id": "1ad82437",
   "metadata": {},
   "outputs": [
    {
     "data": {
      "text/html": [
       "<div>\n",
       "<style scoped>\n",
       "    .dataframe tbody tr th:only-of-type {\n",
       "        vertical-align: middle;\n",
       "    }\n",
       "\n",
       "    .dataframe tbody tr th {\n",
       "        vertical-align: top;\n",
       "    }\n",
       "\n",
       "    .dataframe thead th {\n",
       "        text-align: right;\n",
       "    }\n",
       "</style>\n",
       "<table border=\"1\" class=\"dataframe\">\n",
       "  <thead>\n",
       "    <tr style=\"text-align: right;\">\n",
       "      <th></th>\n",
       "      <th>Survived</th>\n",
       "      <th>number</th>\n",
       "      <th>percentage</th>\n",
       "    </tr>\n",
       "  </thead>\n",
       "  <tbody>\n",
       "    <tr>\n",
       "      <th>0</th>\n",
       "      <td>0</td>\n",
       "      <td>57226</td>\n",
       "      <td>0.57226</td>\n",
       "    </tr>\n",
       "    <tr>\n",
       "      <th>1</th>\n",
       "      <td>1</td>\n",
       "      <td>42774</td>\n",
       "      <td>0.42774</td>\n",
       "    </tr>\n",
       "  </tbody>\n",
       "</table>\n",
       "</div>"
      ],
      "text/plain": [
       "   Survived  number  percentage\n",
       "0         0   57226     0.57226\n",
       "1         1   42774     0.42774"
      ]
     },
     "execution_count": 1677,
     "metadata": {},
     "output_type": "execute_result"
    },
    {
     "data": {
      "image/png": "[encoded data removed]",
      "text/plain": [
       "<Figure size 432x288 with 1 Axes>"
      ]
     },
     "metadata": {
      "needs_background": "light"
     },
     "output_type": "display_data"
    }
   ],
   "source": [
    "survived=data.groupby('Survived', as_index=False).agg({'PassengerId':'count'}).rename(columns={'PassengerId':'number'})\n",
    "plt.title(\"Количество выживших и погибших\")\n",
    "sns.barplot(x=survived.Survived, y=survived['number'])\n",
    "plt.ylabel(\"количество человек\")\n",
    "survived['percentage']=survived.number/100000\n",
    "survived"
   ]
  },
  {
   "cell_type": "code",
   "execution_count": 1678,
   "id": "32d499ad",
   "metadata": {},
   "outputs": [
    {
     "data": {
      "text/html": [
       "<div>\n",
       "<style scoped>\n",
       "    .dataframe tbody tr th:only-of-type {\n",
       "        vertical-align: middle;\n",
       "    }\n",
       "\n",
       "    .dataframe tbody tr th {\n",
       "        vertical-align: top;\n",
       "    }\n",
       "\n",
       "    .dataframe thead th {\n",
       "        text-align: right;\n",
       "    }\n",
       "</style>\n",
       "<table border=\"1\" class=\"dataframe\">\n",
       "  <thead>\n",
       "    <tr style=\"text-align: right;\">\n",
       "      <th></th>\n",
       "      <th>Sex</th>\n",
       "      <th>Survived</th>\n",
       "      <th>number</th>\n",
       "      <th>total</th>\n",
       "      <th>percentage</th>\n",
       "    </tr>\n",
       "  </thead>\n",
       "  <tbody>\n",
       "    <tr>\n",
       "      <th>0</th>\n",
       "      <td>female</td>\n",
       "      <td>0</td>\n",
       "      <td>12660</td>\n",
       "      <td>43886</td>\n",
       "      <td>0.288475</td>\n",
       "    </tr>\n",
       "    <tr>\n",
       "      <th>1</th>\n",
       "      <td>female</td>\n",
       "      <td>1</td>\n",
       "      <td>31226</td>\n",
       "      <td>43886</td>\n",
       "      <td>0.711525</td>\n",
       "    </tr>\n",
       "    <tr>\n",
       "      <th>2</th>\n",
       "      <td>male</td>\n",
       "      <td>0</td>\n",
       "      <td>44566</td>\n",
       "      <td>56114</td>\n",
       "      <td>0.794205</td>\n",
       "    </tr>\n",
       "    <tr>\n",
       "      <th>3</th>\n",
       "      <td>male</td>\n",
       "      <td>1</td>\n",
       "      <td>11548</td>\n",
       "      <td>56114</td>\n",
       "      <td>0.205795</td>\n",
       "    </tr>\n",
       "  </tbody>\n",
       "</table>\n",
       "</div>"
      ],
      "text/plain": [
       "      Sex  Survived  number  total  percentage\n",
       "0  female         0   12660  43886    0.288475\n",
       "1  female         1   31226  43886    0.711525\n",
       "2    male         0   44566  56114    0.794205\n",
       "3    male         1   11548  56114    0.205795"
      ]
     },
     "execution_count": 1678,
     "metadata": {},
     "output_type": "execute_result"
    },
    {
     "data": {
      "image/png": "[encoded data removed]",
      "text/plain": [
       "<Figure size 502.5x432 with 1 Axes>"
      ]
     },
     "metadata": {
      "needs_background": "light"
     },
     "output_type": "display_data"
    }
   ],
   "source": [
    "sex=data.groupby(['Sex'], as_index=False).agg({'PassengerId':'count'})\\\n",
    "    .rename(columns={'PassengerId':'number'})\n",
    "sex_survived=data.groupby(['Sex','Survived'], as_index=False).agg({'PassengerId':'count'})\\\n",
    "    .rename(columns={'PassengerId':'number'})\n",
    "sex_survived=sex_survived.merge(sex, on='Sex').rename(columns={'number_x':'number', 'number_y':'total'})\n",
    "sex_survived['percentage']=sex_survived.number/sex_survived.total\n",
    "sex_survived\n",
    "g = sns.catplot(\n",
    "    data=sex_survived, kind=\"bar\",\n",
    "    x=\"Survived\", y=\"percentage\", hue=\"Sex\",\n",
    "    ci=\"sd\", palette=\"dark\", alpha=.6, height=6\n",
    ")\n",
    "g.despine(left=True)\n",
    "g.set_axis_labels(\"погибшие и выжившие\", \"проценты\")\n",
    "plt.title(\"процент выживших и погибших мужчин и женщин\")\n",
    "sex_survived"
   ]
  },
  {
   "cell_type": "markdown",
   "id": "0b555690",
   "metadata": {},
   "source": [
    "да, есть связь между выжившими и погибшими. У женщин вероятность выжить больше"
   ]
  },
  {
   "cell_type": "markdown",
   "id": "8ab9a636",
   "metadata": {},
   "source": [
    "(0.5 points) Plot age distribution of the passengers. What is the average and the median age of survived and deceased passengers? Do age distributions differ for survived and deceased passengers? Why?"
   ]
  },
  {
   "cell_type": "code",
   "execution_count": 1679,
   "id": "33d11536",
   "metadata": {},
   "outputs": [
    {
     "data": {
      "text/html": [
       "<div>\n",
       "<style scoped>\n",
       "    .dataframe tbody tr th:only-of-type {\n",
       "        vertical-align: middle;\n",
       "    }\n",
       "\n",
       "    .dataframe tbody tr th {\n",
       "        vertical-align: top;\n",
       "    }\n",
       "\n",
       "    .dataframe thead th {\n",
       "        text-align: right;\n",
       "    }\n",
       "</style>\n",
       "<table border=\"1\" class=\"dataframe\">\n",
       "  <thead>\n",
       "    <tr style=\"text-align: right;\">\n",
       "      <th></th>\n",
       "      <th>Age</th>\n",
       "      <th>number</th>\n",
       "    </tr>\n",
       "  </thead>\n",
       "  <tbody>\n",
       "    <tr>\n",
       "      <th>0</th>\n",
       "      <td>0.08</td>\n",
       "      <td>39</td>\n",
       "    </tr>\n",
       "    <tr>\n",
       "      <th>1</th>\n",
       "      <td>0.17</td>\n",
       "      <td>67</td>\n",
       "    </tr>\n",
       "    <tr>\n",
       "      <th>2</th>\n",
       "      <td>0.25</td>\n",
       "      <td>68</td>\n",
       "    </tr>\n",
       "    <tr>\n",
       "      <th>3</th>\n",
       "      <td>0.33</td>\n",
       "      <td>53</td>\n",
       "    </tr>\n",
       "    <tr>\n",
       "      <th>4</th>\n",
       "      <td>0.42</td>\n",
       "      <td>62</td>\n",
       "    </tr>\n",
       "    <tr>\n",
       "      <th>...</th>\n",
       "      <td>...</td>\n",
       "      <td>...</td>\n",
       "    </tr>\n",
       "    <tr>\n",
       "      <th>168</th>\n",
       "      <td>83.00</td>\n",
       "      <td>9</td>\n",
       "    </tr>\n",
       "    <tr>\n",
       "      <th>169</th>\n",
       "      <td>84.00</td>\n",
       "      <td>3</td>\n",
       "    </tr>\n",
       "    <tr>\n",
       "      <th>170</th>\n",
       "      <td>85.00</td>\n",
       "      <td>4</td>\n",
       "    </tr>\n",
       "    <tr>\n",
       "      <th>171</th>\n",
       "      <td>86.00</td>\n",
       "      <td>2</td>\n",
       "    </tr>\n",
       "    <tr>\n",
       "      <th>172</th>\n",
       "      <td>87.00</td>\n",
       "      <td>1</td>\n",
       "    </tr>\n",
       "  </tbody>\n",
       "</table>\n",
       "<p>173 rows × 2 columns</p>\n",
       "</div>"
      ],
      "text/plain": [
       "       Age  number\n",
       "0     0.08      39\n",
       "1     0.17      67\n",
       "2     0.25      68\n",
       "3     0.33      53\n",
       "4     0.42      62\n",
       "..     ...     ...\n",
       "168  83.00       9\n",
       "169  84.00       3\n",
       "170  85.00       4\n",
       "171  86.00       2\n",
       "172  87.00       1\n",
       "\n",
       "[173 rows x 2 columns]"
      ]
     },
     "execution_count": 1679,
     "metadata": {},
     "output_type": "execute_result"
    },
    {
     "data": {
      "image/png": "[encoded data removed]",
      "text/plain": [
       "<Figure size 864x432 with 1 Axes>"
      ]
     },
     "metadata": {
      "needs_background": "light"
     },
     "output_type": "display_data"
    }
   ],
   "source": [
    "titanic_age=data.groupby('Age', as_index=False).agg({'PassengerId':'count'})\\\n",
    "    .rename(columns={'PassengerId':'number'})\n",
    "titanic_age\n",
    "plt.figure(figsize=(12,6))\n",
    "plt.title(\"Возраст пассажиров\")\n",
    "sns.lineplot(data=titanic_age, x=\"Age\", y=\"number\")\n",
    "titanic_age"
   ]
  },
  {
   "cell_type": "code",
   "execution_count": null,
   "id": "50738131",
   "metadata": {},
   "outputs": [],
   "source": []
  },
  {
   "cell_type": "code",
   "execution_count": 1680,
   "id": "fbf20d5b",
   "metadata": {},
   "outputs": [
    {
     "data": {
      "text/html": [
       "<div>\n",
       "<style scoped>\n",
       "    .dataframe tbody tr th:only-of-type {\n",
       "        vertical-align: middle;\n",
       "    }\n",
       "\n",
       "    .dataframe tbody tr th {\n",
       "        vertical-align: top;\n",
       "    }\n",
       "\n",
       "    .dataframe thead th {\n",
       "        text-align: right;\n",
       "    }\n",
       "</style>\n",
       "<table border=\"1\" class=\"dataframe\">\n",
       "  <thead>\n",
       "    <tr style=\"text-align: right;\">\n",
       "      <th></th>\n",
       "      <th>Survived</th>\n",
       "      <th>Age</th>\n",
       "    </tr>\n",
       "  </thead>\n",
       "  <tbody>\n",
       "    <tr>\n",
       "      <th>0</th>\n",
       "      <td>0</td>\n",
       "      <td>36.708695</td>\n",
       "    </tr>\n",
       "    <tr>\n",
       "      <th>1</th>\n",
       "      <td>1</td>\n",
       "      <td>40.553799</td>\n",
       "    </tr>\n",
       "  </tbody>\n",
       "</table>\n",
       "</div>"
      ],
      "text/plain": [
       "   Survived        Age\n",
       "0         0  36.708695\n",
       "1         1  40.553799"
      ]
     },
     "execution_count": 1680,
     "metadata": {},
     "output_type": "execute_result"
    },
    {
     "data": {
      "image/png": "[encoded data removed]",
      "text/plain": [
       "<Figure size 432x288 with 1 Axes>"
      ]
     },
     "metadata": {
      "needs_background": "light"
     },
     "output_type": "display_data"
    }
   ],
   "source": [
    "average_age=data.groupby('Survived',as_index=False).agg({'Age':'mean'})\n",
    "plt.title(\"средний возраст выживших и погибших\")\n",
    "sns.barplot(x=average_age.Survived, y=average_age['Age'])\n",
    "plt.ylabel(\"средний возраст\")\n",
    "average_age"
   ]
  },
  {
   "cell_type": "code",
   "execution_count": 1681,
   "id": "485d6d40",
   "metadata": {},
   "outputs": [
    {
     "data": {
      "text/html": [
       "<div>\n",
       "<style scoped>\n",
       "    .dataframe tbody tr th:only-of-type {\n",
       "        vertical-align: middle;\n",
       "    }\n",
       "\n",
       "    .dataframe tbody tr th {\n",
       "        vertical-align: top;\n",
       "    }\n",
       "\n",
       "    .dataframe thead th {\n",
       "        text-align: right;\n",
       "    }\n",
       "</style>\n",
       "<table border=\"1\" class=\"dataframe\">\n",
       "  <thead>\n",
       "    <tr style=\"text-align: right;\">\n",
       "      <th></th>\n",
       "      <th>Survived</th>\n",
       "      <th>Age</th>\n",
       "    </tr>\n",
       "  </thead>\n",
       "  <tbody>\n",
       "    <tr>\n",
       "      <th>0</th>\n",
       "      <td>0</td>\n",
       "      <td>36.0</td>\n",
       "    </tr>\n",
       "    <tr>\n",
       "      <th>1</th>\n",
       "      <td>1</td>\n",
       "      <td>43.0</td>\n",
       "    </tr>\n",
       "  </tbody>\n",
       "</table>\n",
       "</div>"
      ],
      "text/plain": [
       "   Survived   Age\n",
       "0         0  36.0\n",
       "1         1  43.0"
      ]
     },
     "execution_count": 1681,
     "metadata": {},
     "output_type": "execute_result"
    },
    {
     "data": {
      "image/png": "[encoded data removed]",
      "text/plain": [
       "<Figure size 432x288 with 1 Axes>"
      ]
     },
     "metadata": {
      "needs_background": "light"
     },
     "output_type": "display_data"
    }
   ],
   "source": [
    "median_age=data.groupby('Survived',as_index=False).agg({'Age':'median'})\n",
    "plt.title(\"медиана возраста выживших и погибших\")\n",
    "sns.barplot(x=median_age.Survived, y=median_age['Age'])\n",
    "plt.ylabel(\"медианный возраст\")\n",
    "median_age"
   ]
  },
  {
   "cell_type": "markdown",
   "id": "dfa28351",
   "metadata": {},
   "source": [
    "средний и медианный возраст различаются среди выживших и погибших. Вполне возможно, что больше пожилых людей было в первом классе, где выживали чаще"
   ]
  },
  {
   "cell_type": "markdown",
   "id": "a49f290f",
   "metadata": {},
   "source": [
    "(1 point) Explore \"passenger class\" and \"embarked\" features. What class was \"the safest\"? Is there any relationship between the embarkation port and the survival? Provide the corresponding visualizations."
   ]
  },
  {
   "cell_type": "code",
   "execution_count": 1682,
   "id": "0be0063e",
   "metadata": {},
   "outputs": [
    {
     "data": {
      "text/html": [
       "<div>\n",
       "<style scoped>\n",
       "    .dataframe tbody tr th:only-of-type {\n",
       "        vertical-align: middle;\n",
       "    }\n",
       "\n",
       "    .dataframe tbody tr th {\n",
       "        vertical-align: top;\n",
       "    }\n",
       "\n",
       "    .dataframe thead th {\n",
       "        text-align: right;\n",
       "    }\n",
       "</style>\n",
       "<table border=\"1\" class=\"dataframe\">\n",
       "  <thead>\n",
       "    <tr style=\"text-align: right;\">\n",
       "      <th></th>\n",
       "      <th>Pclass</th>\n",
       "      <th>all_number</th>\n",
       "    </tr>\n",
       "  </thead>\n",
       "  <tbody>\n",
       "    <tr>\n",
       "      <th>0</th>\n",
       "      <td>1</td>\n",
       "      <td>30315</td>\n",
       "    </tr>\n",
       "    <tr>\n",
       "      <th>1</th>\n",
       "      <td>2</td>\n",
       "      <td>28679</td>\n",
       "    </tr>\n",
       "    <tr>\n",
       "      <th>2</th>\n",
       "      <td>3</td>\n",
       "      <td>41006</td>\n",
       "    </tr>\n",
       "  </tbody>\n",
       "</table>\n",
       "</div>"
      ],
      "text/plain": [
       "   Pclass  all_number\n",
       "0       1       30315\n",
       "1       2       28679\n",
       "2       3       41006"
      ]
     },
     "execution_count": 1682,
     "metadata": {},
     "output_type": "execute_result"
    },
    {
     "data": {
      "image/png": "[encoded data removed]",
      "text/plain": [
       "<Figure size 432x288 with 1 Axes>"
      ]
     },
     "metadata": {
      "needs_background": "light"
     },
     "output_type": "display_data"
    }
   ],
   "source": [
    "classes=data.groupby('Pclass', as_index=False).agg({'PassengerId':'count'}).rename(columns={'PassengerId':'all_number'})\n",
    "plt.title(\"количество пассажиров разных классов\")\n",
    "sns.barplot(x=classes.Pclass, y=classes['all_number'])\n",
    "plt.ylabel(\"количество человек\")\n",
    "classes"
   ]
  },
  {
   "cell_type": "code",
   "execution_count": 1683,
   "id": "87087bdd",
   "metadata": {},
   "outputs": [
    {
     "data": {
      "text/html": [
       "<div>\n",
       "<style scoped>\n",
       "    .dataframe tbody tr th:only-of-type {\n",
       "        vertical-align: middle;\n",
       "    }\n",
       "\n",
       "    .dataframe tbody tr th {\n",
       "        vertical-align: top;\n",
       "    }\n",
       "\n",
       "    .dataframe thead th {\n",
       "        text-align: right;\n",
       "    }\n",
       "</style>\n",
       "<table border=\"1\" class=\"dataframe\">\n",
       "  <thead>\n",
       "    <tr style=\"text-align: right;\">\n",
       "      <th></th>\n",
       "      <th>Pclass</th>\n",
       "      <th>Survived</th>\n",
       "      <th>all_number</th>\n",
       "      <th>percentage_survive</th>\n",
       "    </tr>\n",
       "  </thead>\n",
       "  <tbody>\n",
       "    <tr>\n",
       "      <th>0</th>\n",
       "      <td>1</td>\n",
       "      <td>17576</td>\n",
       "      <td>30315</td>\n",
       "      <td>0.579779</td>\n",
       "    </tr>\n",
       "    <tr>\n",
       "      <th>1</th>\n",
       "      <td>2</td>\n",
       "      <td>15057</td>\n",
       "      <td>28679</td>\n",
       "      <td>0.525018</td>\n",
       "    </tr>\n",
       "    <tr>\n",
       "      <th>2</th>\n",
       "      <td>3</td>\n",
       "      <td>10141</td>\n",
       "      <td>41006</td>\n",
       "      <td>0.247305</td>\n",
       "    </tr>\n",
       "  </tbody>\n",
       "</table>\n",
       "</div>"
      ],
      "text/plain": [
       "   Pclass  Survived  all_number  percentage_survive\n",
       "0       1     17576       30315            0.579779\n",
       "1       2     15057       28679            0.525018\n",
       "2       3     10141       41006            0.247305"
      ]
     },
     "execution_count": 1683,
     "metadata": {},
     "output_type": "execute_result"
    },
    {
     "data": {
      "image/png": "[encoded data removed]",
      "text/plain": [
       "<Figure size 432x288 with 1 Axes>"
      ]
     },
     "metadata": {
      "needs_background": "light"
     },
     "output_type": "display_data"
    }
   ],
   "source": [
    "classes_survived=data.groupby('Pclass', as_index=False).agg({'Survived':'sum'})\n",
    "classes_survived=classes_survived.merge(classes,on='Pclass')\n",
    "classes_survived['percentage_survive']=classes_survived.Survived/classes_survived.all_number\n",
    "plt.title(\"процент выживших в разных классах\")\n",
    "sns.barplot(x=classes_survived.Pclass, y=classes_survived['percentage_survive'])\n",
    "plt.ylabel(\"количество человек\")\n",
    "classes_survived"
   ]
  },
  {
   "cell_type": "code",
   "execution_count": 1684,
   "id": "24844b24",
   "metadata": {},
   "outputs": [
    {
     "data": {
      "text/html": [
       "<div>\n",
       "<style scoped>\n",
       "    .dataframe tbody tr th:only-of-type {\n",
       "        vertical-align: middle;\n",
       "    }\n",
       "\n",
       "    .dataframe tbody tr th {\n",
       "        vertical-align: top;\n",
       "    }\n",
       "\n",
       "    .dataframe thead th {\n",
       "        text-align: right;\n",
       "    }\n",
       "</style>\n",
       "<table border=\"1\" class=\"dataframe\">\n",
       "  <thead>\n",
       "    <tr style=\"text-align: right;\">\n",
       "      <th></th>\n",
       "      <th>Embarked</th>\n",
       "      <th>total</th>\n",
       "      <th>Survived</th>\n",
       "      <th>count</th>\n",
       "      <th>percentage</th>\n",
       "    </tr>\n",
       "  </thead>\n",
       "  <tbody>\n",
       "    <tr>\n",
       "      <th>0</th>\n",
       "      <td>C</td>\n",
       "      <td>22187</td>\n",
       "      <td>0</td>\n",
       "      <td>5518</td>\n",
       "      <td>0.248704</td>\n",
       "    </tr>\n",
       "    <tr>\n",
       "      <th>1</th>\n",
       "      <td>C</td>\n",
       "      <td>22187</td>\n",
       "      <td>1</td>\n",
       "      <td>16669</td>\n",
       "      <td>0.751296</td>\n",
       "    </tr>\n",
       "    <tr>\n",
       "      <th>2</th>\n",
       "      <td>Q</td>\n",
       "      <td>5424</td>\n",
       "      <td>0</td>\n",
       "      <td>2186</td>\n",
       "      <td>0.403024</td>\n",
       "    </tr>\n",
       "    <tr>\n",
       "      <th>3</th>\n",
       "      <td>Q</td>\n",
       "      <td>5424</td>\n",
       "      <td>1</td>\n",
       "      <td>3238</td>\n",
       "      <td>0.596976</td>\n",
       "    </tr>\n",
       "    <tr>\n",
       "      <th>4</th>\n",
       "      <td>S</td>\n",
       "      <td>72139</td>\n",
       "      <td>0</td>\n",
       "      <td>49394</td>\n",
       "      <td>0.684706</td>\n",
       "    </tr>\n",
       "    <tr>\n",
       "      <th>5</th>\n",
       "      <td>S</td>\n",
       "      <td>72139</td>\n",
       "      <td>1</td>\n",
       "      <td>22745</td>\n",
       "      <td>0.315294</td>\n",
       "    </tr>\n",
       "  </tbody>\n",
       "</table>\n",
       "</div>"
      ],
      "text/plain": [
       "  Embarked  total  Survived  count  percentage\n",
       "0        C  22187         0   5518    0.248704\n",
       "1        C  22187         1  16669    0.751296\n",
       "2        Q   5424         0   2186    0.403024\n",
       "3        Q   5424         1   3238    0.596976\n",
       "4        S  72139         0  49394    0.684706\n",
       "5        S  72139         1  22745    0.315294"
      ]
     },
     "execution_count": 1684,
     "metadata": {},
     "output_type": "execute_result"
    },
    {
     "data": {
      "text/plain": [
       "<Figure size 1296x720 with 0 Axes>"
      ]
     },
     "metadata": {},
     "output_type": "display_data"
    },
    {
     "data": {
      "image/png": "[encoded data removed]",
      "text/plain": [
       "<Figure size 648x360 with 3 Axes>"
      ]
     },
     "metadata": {
      "needs_background": "light"
     },
     "output_type": "display_data"
    }
   ],
   "source": [
    "emb_total=data.groupby('Embarked', as_index=False).agg({'PassengerId':'count'})\\\n",
    "    .rename(columns={'PassengerId':'total'})\n",
    "emb_sur=data.groupby(['Embarked','Survived'], as_index=False).agg({'PassengerId':'count'})\\\n",
    "    .rename(columns={'PassengerId':'count'})\n",
    "emb_sur=emb_total.merge(emb_sur, on='Embarked')\n",
    "emb_sur[\"percentage\"]=emb_sur['count']/emb_sur.total\n",
    "plt.figure(figsize=(18,10))\n",
    "g7 = sns.catplot(x=\"Survived\", y=\"percentage\", col=\"Embarked\",\n",
    "               data=emb_sur, saturation=.5,\n",
    "               kind=\"bar\", ci=None, aspect=.6)\n",
    "g7.fig.subplots_adjust(top=.8)\n",
    "g7.fig.suptitle('процент выживших в зависимости от места посадки')\n",
    "emb_sur"
   ]
  },
  {
   "cell_type": "markdown",
   "id": "1260aebe",
   "metadata": {},
   "source": [
    "Самый безопасный класс это первый. Немного отстает второй. Больше людей выжило, кто садился на корабль в Cherbourg, причем людей первого и второго класса там садилось не \n",
    "больше, чем в других портах, непонятно, с чем это связано"
   ]
  },
  {
   "cell_type": "markdown",
   "id": "77397963",
   "metadata": {},
   "source": [
    "# Modelling"
   ]
  },
  {
   "cell_type": "markdown",
   "id": "731f2ba1",
   "metadata": {},
   "source": [
    "(0.5 points) Find the percentage of missing values for each feature."
   ]
  },
  {
   "cell_type": "code",
   "execution_count": 1685,
   "id": "28999931",
   "metadata": {},
   "outputs": [
    {
     "data": {
      "text/plain": [
       "Cabin          0.67866\n",
       "Ticket         0.04623\n",
       "Age            0.03292\n",
       "Embarked       0.00250\n",
       "Fare           0.00134\n",
       "PassengerId    0.00000\n",
       "Survived       0.00000\n",
       "Pclass         0.00000\n",
       "Name           0.00000\n",
       "Sex            0.00000\n",
       "SibSp          0.00000\n",
       "Parch          0.00000\n",
       "dtype: float64"
      ]
     },
     "execution_count": 1685,
     "metadata": {},
     "output_type": "execute_result"
    },
    {
     "data": {
      "image/png": "[encoded data removed]",
      "text/plain": [
       "<Figure size 432x288 with 1 Axes>"
      ]
     },
     "metadata": {
      "needs_background": "light"
     },
     "output_type": "display_data"
    }
   ],
   "source": [
    "\n",
    "missing_percentage = data.isna().sum().sort_values(ascending=False) / len(data)\n",
    "missing_columns = missing_percentage[missing_percentage != 0]\n",
    "missing_columns.plot(kind='barh', title='Percentage of missing values per column', grid=True)\n",
    "missing_percentage"
   ]
  },
  {
   "cell_type": "markdown",
   "id": "fc66ecda",
   "metadata": {},
   "source": [
    "Think about the ways to handle these missing values for modelling and write your answer below. Which methods would you suggest? What are their advantages and disadvantages?"
   ]
  },
  {
   "cell_type": "markdown",
   "id": "10cfd8db",
   "metadata": {},
   "source": [
    "для возраста и стоимости пропущенные значения можно заполнить средним или медианой. для номера каюты наверное сделать ничего не получится и лучше просто не использовать эту колонку в предсказаниях, тем более что она не очень и важна.. Место посадки и билет можно заменить модой. Недостатки везде одинаковы, это просто будут значения, которые вероятнее всего могли бы там быть, а могли и не быть. Из преимуществ - довольно быстро так можно заполнить пропуски"
   ]
  },
  {
   "cell_type": "markdown",
   "id": "84c2f6cb",
   "metadata": {},
   "source": [
    "(1.5 points) Prepare the features and train two models (KNN and Logistic Regression) to predict the survival. Compare the results. Use accuracy as a metric. Don't forget about cross-validation!\n"
   ]
  },
  {
   "cell_type": "code",
   "execution_count": 1686,
   "id": "d32f2954",
   "metadata": {},
   "outputs": [],
   "source": [
    "#замещение NaN \n",
    "data.Age=data.Age.fillna(data.Age.mean())\n",
    "data.Fare=data.Fare.fillna(data.Fare.mean())\n",
    "data.Ticket=data.Ticket.fillna(data.Ticket.mode())\n",
    "data.Embarked=data.Embarked.fillna(data.Embarked.mode())\n",
    "data.drop(columns='Cabin', inplace=True)\n"
   ]
  },
  {
   "cell_type": "code",
   "execution_count": 1687,
   "id": "11e11765",
   "metadata": {},
   "outputs": [],
   "source": [
    "def change_sex(x):\n",
    "    if x=='male':\n",
    "        return 1\n",
    "    else:\n",
    "        return 0\n",
    "data['Sex'] = data['Sex'].apply(change_sex)    "
   ]
  },
  {
   "cell_type": "code",
   "execution_count": 1688,
   "id": "91899f34",
   "metadata": {},
   "outputs": [],
   "source": [
    "def change_emb(x):\n",
    "    if x=='S':\n",
    "        return 1\n",
    "    elif x=='C':\n",
    "        return 0\n",
    "    else:\n",
    "        return 2\n",
    "data['Embarked']=data['Embarked'].apply(change_emb)  "
   ]
  },
  {
   "cell_type": "code",
   "execution_count": 1689,
   "id": "6722f39e",
   "metadata": {},
   "outputs": [
    {
     "data": {
      "text/html": [
       "<div>\n",
       "<style scoped>\n",
       "    .dataframe tbody tr th:only-of-type {\n",
       "        vertical-align: middle;\n",
       "    }\n",
       "\n",
       "    .dataframe tbody tr th {\n",
       "        vertical-align: top;\n",
       "    }\n",
       "\n",
       "    .dataframe thead th {\n",
       "        text-align: right;\n",
       "    }\n",
       "</style>\n",
       "<table border=\"1\" class=\"dataframe\">\n",
       "  <thead>\n",
       "    <tr style=\"text-align: right;\">\n",
       "      <th></th>\n",
       "      <th>PassengerId</th>\n",
       "      <th>Survived</th>\n",
       "      <th>Pclass</th>\n",
       "      <th>Name</th>\n",
       "      <th>Sex</th>\n",
       "      <th>Age</th>\n",
       "      <th>SibSp</th>\n",
       "      <th>Parch</th>\n",
       "      <th>Ticket</th>\n",
       "      <th>Fare</th>\n",
       "      <th>Embarked</th>\n",
       "    </tr>\n",
       "  </thead>\n",
       "  <tbody>\n",
       "    <tr>\n",
       "      <th>0</th>\n",
       "      <td>0</td>\n",
       "      <td>1</td>\n",
       "      <td>1</td>\n",
       "      <td>Oconnor, Frankie</td>\n",
       "      <td>1</td>\n",
       "      <td>38.355472</td>\n",
       "      <td>2</td>\n",
       "      <td>0</td>\n",
       "      <td>209245</td>\n",
       "      <td>27.14</td>\n",
       "      <td>1</td>\n",
       "    </tr>\n",
       "    <tr>\n",
       "      <th>1</th>\n",
       "      <td>1</td>\n",
       "      <td>0</td>\n",
       "      <td>3</td>\n",
       "      <td>Bryan, Drew</td>\n",
       "      <td>1</td>\n",
       "      <td>38.355472</td>\n",
       "      <td>0</td>\n",
       "      <td>0</td>\n",
       "      <td>27323</td>\n",
       "      <td>13.35</td>\n",
       "      <td>1</td>\n",
       "    </tr>\n",
       "    <tr>\n",
       "      <th>2</th>\n",
       "      <td>2</td>\n",
       "      <td>0</td>\n",
       "      <td>3</td>\n",
       "      <td>Owens, Kenneth</td>\n",
       "      <td>1</td>\n",
       "      <td>0.330000</td>\n",
       "      <td>1</td>\n",
       "      <td>2</td>\n",
       "      <td>CA 457703</td>\n",
       "      <td>71.29</td>\n",
       "      <td>1</td>\n",
       "    </tr>\n",
       "    <tr>\n",
       "      <th>3</th>\n",
       "      <td>3</td>\n",
       "      <td>0</td>\n",
       "      <td>3</td>\n",
       "      <td>Kramer, James</td>\n",
       "      <td>1</td>\n",
       "      <td>19.000000</td>\n",
       "      <td>0</td>\n",
       "      <td>0</td>\n",
       "      <td>A. 10866</td>\n",
       "      <td>13.04</td>\n",
       "      <td>1</td>\n",
       "    </tr>\n",
       "    <tr>\n",
       "      <th>4</th>\n",
       "      <td>4</td>\n",
       "      <td>1</td>\n",
       "      <td>3</td>\n",
       "      <td>Bond, Michael</td>\n",
       "      <td>1</td>\n",
       "      <td>25.000000</td>\n",
       "      <td>0</td>\n",
       "      <td>0</td>\n",
       "      <td>427635</td>\n",
       "      <td>7.76</td>\n",
       "      <td>1</td>\n",
       "    </tr>\n",
       "    <tr>\n",
       "      <th>...</th>\n",
       "      <td>...</td>\n",
       "      <td>...</td>\n",
       "      <td>...</td>\n",
       "      <td>...</td>\n",
       "      <td>...</td>\n",
       "      <td>...</td>\n",
       "      <td>...</td>\n",
       "      <td>...</td>\n",
       "      <td>...</td>\n",
       "      <td>...</td>\n",
       "      <td>...</td>\n",
       "    </tr>\n",
       "    <tr>\n",
       "      <th>99995</th>\n",
       "      <td>99995</td>\n",
       "      <td>1</td>\n",
       "      <td>2</td>\n",
       "      <td>Bell, Adele</td>\n",
       "      <td>0</td>\n",
       "      <td>62.000000</td>\n",
       "      <td>0</td>\n",
       "      <td>0</td>\n",
       "      <td>PC 15008</td>\n",
       "      <td>14.86</td>\n",
       "      <td>0</td>\n",
       "    </tr>\n",
       "    <tr>\n",
       "      <th>99996</th>\n",
       "      <td>99996</td>\n",
       "      <td>0</td>\n",
       "      <td>2</td>\n",
       "      <td>Brown, Herman</td>\n",
       "      <td>1</td>\n",
       "      <td>66.000000</td>\n",
       "      <td>0</td>\n",
       "      <td>0</td>\n",
       "      <td>13273</td>\n",
       "      <td>11.15</td>\n",
       "      <td>1</td>\n",
       "    </tr>\n",
       "    <tr>\n",
       "      <th>99997</th>\n",
       "      <td>99997</td>\n",
       "      <td>0</td>\n",
       "      <td>3</td>\n",
       "      <td>Childress, Charles</td>\n",
       "      <td>1</td>\n",
       "      <td>37.000000</td>\n",
       "      <td>0</td>\n",
       "      <td>0</td>\n",
       "      <td>NaN</td>\n",
       "      <td>9.95</td>\n",
       "      <td>1</td>\n",
       "    </tr>\n",
       "    <tr>\n",
       "      <th>99998</th>\n",
       "      <td>99998</td>\n",
       "      <td>0</td>\n",
       "      <td>3</td>\n",
       "      <td>Caughlin, Thomas</td>\n",
       "      <td>1</td>\n",
       "      <td>51.000000</td>\n",
       "      <td>0</td>\n",
       "      <td>1</td>\n",
       "      <td>458654</td>\n",
       "      <td>30.92</td>\n",
       "      <td>1</td>\n",
       "    </tr>\n",
       "    <tr>\n",
       "      <th>99999</th>\n",
       "      <td>99999</td>\n",
       "      <td>0</td>\n",
       "      <td>3</td>\n",
       "      <td>Enciso, Tyler</td>\n",
       "      <td>1</td>\n",
       "      <td>55.000000</td>\n",
       "      <td>0</td>\n",
       "      <td>0</td>\n",
       "      <td>458074</td>\n",
       "      <td>13.96</td>\n",
       "      <td>1</td>\n",
       "    </tr>\n",
       "  </tbody>\n",
       "</table>\n",
       "<p>100000 rows × 11 columns</p>\n",
       "</div>"
      ],
      "text/plain": [
       "       PassengerId  Survived  Pclass                Name  Sex        Age  \\\n",
       "0                0         1       1    Oconnor, Frankie    1  38.355472   \n",
       "1                1         0       3         Bryan, Drew    1  38.355472   \n",
       "2                2         0       3      Owens, Kenneth    1   0.330000   \n",
       "3                3         0       3       Kramer, James    1  19.000000   \n",
       "4                4         1       3       Bond, Michael    1  25.000000   \n",
       "...            ...       ...     ...                 ...  ...        ...   \n",
       "99995        99995         1       2         Bell, Adele    0  62.000000   \n",
       "99996        99996         0       2       Brown, Herman    1  66.000000   \n",
       "99997        99997         0       3  Childress, Charles    1  37.000000   \n",
       "99998        99998         0       3    Caughlin, Thomas    1  51.000000   \n",
       "99999        99999         0       3       Enciso, Tyler    1  55.000000   \n",
       "\n",
       "       SibSp  Parch     Ticket   Fare  Embarked  \n",
       "0          2      0     209245  27.14         1  \n",
       "1          0      0      27323  13.35         1  \n",
       "2          1      2  CA 457703  71.29         1  \n",
       "3          0      0   A. 10866  13.04         1  \n",
       "4          0      0     427635   7.76         1  \n",
       "...      ...    ...        ...    ...       ...  \n",
       "99995      0      0   PC 15008  14.86         0  \n",
       "99996      0      0      13273  11.15         1  \n",
       "99997      0      0        NaN   9.95         1  \n",
       "99998      0      1     458654  30.92         1  \n",
       "99999      0      0     458074  13.96         1  \n",
       "\n",
       "[100000 rows x 11 columns]"
      ]
     },
     "execution_count": 1689,
     "metadata": {},
     "output_type": "execute_result"
    }
   ],
   "source": [
    "data"
   ]
  },
  {
   "cell_type": "code",
   "execution_count": 1690,
   "id": "fac175a4",
   "metadata": {},
   "outputs": [],
   "source": [
    "feature_names=['Sex', 'Age', 'Pclass', 'Embarked']\n",
    "target='Survived'\n",
    "\n",
    "x = data[feature_names]\n",
    "y = data[target]"
   ]
  },
  {
   "cell_type": "code",
   "execution_count": 1691,
   "id": "8e31b5da",
   "metadata": {},
   "outputs": [],
   "source": [
    "X_train, X_test, y_train, y_test = train_test_split(x, y, test_size=0.3)"
   ]
  },
  {
   "cell_type": "code",
   "execution_count": 1692,
   "id": "fe929e1e",
   "metadata": {},
   "outputs": [
    {
     "name": "stdout",
     "output_type": "stream",
     "text": [
      "0.7602285714285715\n"
     ]
    }
   ],
   "source": [
    "from sklearn.model_selection import KFold\n",
    "from sklearn.model_selection import cross_val_score\n",
    "from sklearn.linear_model import LogisticRegression\n",
    "cv = KFold(n_splits=5, random_state=1, shuffle=True)\n",
    "# create model\n",
    "model = LogisticRegression(max_iter=5000,C=500.0, random_state=0)\n",
    "# evaluate model\n",
    "scores = cross_val_score(model, X_train, y_train, scoring='accuracy', cv=cv, n_jobs=-1)\n",
    "# report performance\n",
    "print(scores.mean())"
   ]
  },
  {
   "cell_type": "code",
   "execution_count": 1693,
   "id": "4483db99",
   "metadata": {},
   "outputs": [
    {
     "data": {
      "image/png": "[encoded data removed]",
      "text/plain": [
       "<Figure size 1008x324 with 1 Axes>"
      ]
     },
     "metadata": {
      "needs_background": "light"
     },
     "output_type": "display_data"
    }
   ],
   "source": [
    "NEIGHBOURS = np.linspace(1, 201, 11, dtype=int)\n",
    "from sklearn.neighbors import KNeighborsClassifier\n",
    "res=[]\n",
    "for n in NEIGHBOURS:\n",
    "    knn = KNeighborsClassifier(n_neighbors=n)\n",
    "    scores = cross_val_score(knn, X_train, y_train, scoring='accuracy', cv=cv, n_jobs=-1)\n",
    "    res.append(scores.mean())\n",
    "plt.figure(figsize=(14, 4.5))\n",
    "plt.plot(NEIGHBOURS, res, label='Training')\n",
    "plt.title('зависимость точности модели от n')\n",
    "plt.xlabel('количество \"соседей\"')\n",
    "plt.ylabel('точность')\n",
    "plt.grid(True)\n",
    "plt.show()\n",
    "       "
   ]
  },
  {
   "cell_type": "markdown",
   "id": "7ff73d21",
   "metadata": {},
   "source": [
    "(0.5 + X points) Try more feature engineering and hyperparameter tuning to improve the results. You may use either KNN or Logistic Regression (or both)."
   ]
  },
  {
   "cell_type": "code",
   "execution_count": 1694,
   "id": "a9a2c261",
   "metadata": {},
   "outputs": [
    {
     "data": {
      "text/plain": [
       "0.7606"
      ]
     },
     "execution_count": 1694,
     "metadata": {},
     "output_type": "execute_result"
    }
   ],
   "source": [
    "knn1 = KNeighborsClassifier(n_neighbors=25, weights='distance')\n",
    "scores1 = cross_val_score(knn1, X_train, y_train, scoring='accuracy', cv=cv, n_jobs=-1)\n",
    "scores1.mean()"
   ]
  },
  {
   "cell_type": "code",
   "execution_count": 1695,
   "id": "44369257",
   "metadata": {},
   "outputs": [
    {
     "data": {
      "text/plain": [
       "0.7618"
      ]
     },
     "execution_count": 1695,
     "metadata": {},
     "output_type": "execute_result"
    }
   ],
   "source": [
    "knn2 = KNeighborsClassifier(n_neighbors=40, weights='distance', algorithm='kd_tree')\n",
    "scores2 = cross_val_score(knn2, X_train, y_train, scoring='accuracy', cv=cv, n_jobs=-1)\n",
    "scores2.mean()"
   ]
  },
  {
   "cell_type": "code",
   "execution_count": 1696,
   "id": "119c9465",
   "metadata": {},
   "outputs": [],
   "source": [
    "feature_names2=['Sex', 'Pclass', 'Embarked']\n",
    "target2='Survived'\n",
    "\n",
    "x = data[feature_names2]\n",
    "y = data[target2]\n",
    "X_train, X_test, y_train, y_test = train_test_split(x, y, test_size=0.3)"
   ]
  },
  {
   "cell_type": "code",
   "execution_count": 1697,
   "id": "cdc129bb",
   "metadata": {},
   "outputs": [
    {
     "data": {
      "text/plain": [
       "0.7620142857142856"
      ]
     },
     "execution_count": 1697,
     "metadata": {},
     "output_type": "execute_result"
    }
   ],
   "source": [
    "knn3 = KNeighborsClassifier(n_neighbors=40, weights='distance', algorithm='kd_tree')\n",
    "scores3 = cross_val_score(knn3, X_train, y_train, scoring='accuracy', cv=cv, n_jobs=-1)\n",
    "scores3.mean()"
   ]
  },
  {
   "cell_type": "code",
   "execution_count": 1698,
   "id": "0ae86580",
   "metadata": {},
   "outputs": [
    {
     "name": "stdout",
     "output_type": "stream",
     "text": [
      "0.7580142857142858\n"
     ]
    }
   ],
   "source": [
    "model4 = LogisticRegression(max_iter=5000,C=500.0, random_state=0, penalty='none')\n",
    "scores4 = cross_val_score(model4, X_train, y_train, scoring='accuracy', cv=cv, n_jobs=-1)\n",
    "print(scores4.mean())"
   ]
  },
  {
   "cell_type": "code",
   "execution_count": 1699,
   "id": "405bfdd4",
   "metadata": {},
   "outputs": [
    {
     "data": {
      "text/plain": [
       "KNeighborsClassifier(algorithm='kd_tree', n_neighbors=40, weights='distance')"
      ]
     },
     "execution_count": 1699,
     "metadata": {},
     "output_type": "execute_result"
    }
   ],
   "source": [
    "knn3.fit(X_train, y_train)"
   ]
  },
  {
   "cell_type": "code",
   "execution_count": 1741,
   "id": "3e188702",
   "metadata": {},
   "outputs": [
    {
     "data": {
      "image/png": "[encoded data removed]",
      "text/plain": [
       "<Figure size 1008x324 with 1 Axes>"
      ]
     },
     "metadata": {
      "needs_background": "light"
     },
     "output_type": "display_data"
    }
   ],
   "source": [
    "leaves = np.linspace(1, 60, 20, dtype=int)\n",
    "from sklearn.neighbors import KNeighborsClassifier\n",
    "res=[]\n",
    "for n in leaves:\n",
    "    knn = KNeighborsClassifier(n_neighbors=45, weights='distance', algorithm='kd_tree', leaf_size=n)\n",
    "    scores = cross_val_score(knn, X_train, y_train, scoring='accuracy', cv=cv, n_jobs=-1)\n",
    "    res.append(scores.mean())\n",
    "plt.figure(figsize=(14, 4.5))\n",
    "plt.plot(leaves, res, label='Training')\n",
    "plt.title('зависимость точности модели от n leaves, algorithm=kd_tree')\n",
    "plt.xlabel('n leaves')\n",
    "plt.ylabel('точность')\n",
    "plt.grid(True)\n",
    "plt.show()\n",
    "       "
   ]
  },
  {
   "cell_type": "code",
   "execution_count": 1715,
   "id": "81414a42",
   "metadata": {},
   "outputs": [
    {
     "data": {
      "image/png": "[encoded data removed]",
      "text/plain": [
       "<Figure size 648x324 with 1 Axes>"
      ]
     },
     "metadata": {
      "needs_background": "light"
     },
     "output_type": "display_data"
    }
   ],
   "source": [
    "algorithm=['auto', 'ball_tree', 'kd_tree', 'brute']\n",
    "from sklearn.neighbors import KNeighborsClassifier\n",
    "res=[]\n",
    "for n in algorithm:\n",
    "    knn = KNeighborsClassifier(n_neighbors=40, weights='distance', algorithm=n)\n",
    "    scores = cross_val_score(knn, X_train, y_train, scoring='accuracy', cv=cv, n_jobs=-1)\n",
    "    res.append(scores.mean())\n",
    "plt.figure(figsize=(9, 4.5))\n",
    "plt.plot(algorithm, res, label='Training')\n",
    "plt.title('зависимость точности модели от algorithm')\n",
    "plt.xlabel('algorithm')\n",
    "plt.ylabel('точность')\n",
    "plt.grid(True)\n",
    "plt.show()"
   ]
  },
  {
   "cell_type": "code",
   "execution_count": 1740,
   "id": "29a848f9",
   "metadata": {},
   "outputs": [
    {
     "data": {
      "image/png": "[encoded data removed]",
      "text/plain": [
       "<Figure size 1008x324 with 1 Axes>"
      ]
     },
     "metadata": {
      "needs_background": "light"
     },
     "output_type": "display_data"
    }
   ],
   "source": [
    "leaves = np.linspace(1, 60, 20, dtype=int)\n",
    "from sklearn.neighbors import KNeighborsClassifier\n",
    "res=[]\n",
    "for n in leaves:\n",
    "    knn = KNeighborsClassifier(n_neighbors=40, weights='distance', algorithm='ball_tree', leaf_size=n)\n",
    "    scores = cross_val_score(knn, X_train, y_train, scoring='accuracy', cv=cv, n_jobs=-1)\n",
    "    res.append(scores.mean())\n",
    "plt.figure(figsize=(14, 4.5))\n",
    "plt.plot(leaves, res, label='Training')\n",
    "plt.title('зависимость точности модели от n leaves, algorithm= ball_tree')\n",
    "plt.xlabel('n leaves')\n",
    "plt.ylabel('точность')\n",
    "plt.grid(True)\n",
    "plt.show()\n",
    "       "
   ]
  },
  {
   "cell_type": "code",
   "execution_count": 1727,
   "id": "b0ab052f",
   "metadata": {},
   "outputs": [
    {
     "data": {
      "text/plain": [
       "KNeighborsClassifier(algorithm='kd_tree', leaf_size=20, n_neighbors=45,\n",
       "                     weights='distance')"
      ]
     },
     "execution_count": 1727,
     "metadata": {},
     "output_type": "execute_result"
    }
   ],
   "source": [
    "knn4 = KNeighborsClassifier(n_neighbors=45, weights='distance', algorithm='kd_tree', leaf_size=20)\n",
    "knn4.fit(X_train, y_train)"
   ]
  },
  {
   "cell_type": "code",
   "execution_count": null,
   "id": "5225f853",
   "metadata": {},
   "outputs": [],
   "source": []
  },
  {
   "cell_type": "code",
   "execution_count": 1728,
   "id": "634d4f86",
   "metadata": {},
   "outputs": [],
   "source": [
    "PATH = \".\\\\\""
   ]
  },
  {
   "cell_type": "code",
   "execution_count": 1729,
   "id": "6d6ad6da",
   "metadata": {},
   "outputs": [],
   "source": [
    "data_test = pd.read_csv(os.path.join(PATH,\"test.csv.zip\"))"
   ]
  },
  {
   "cell_type": "code",
   "execution_count": 1730,
   "id": "9ed6f490",
   "metadata": {},
   "outputs": [],
   "source": [
    "data_test['Sex'] = data_test['Sex'].apply(change_sex) \n",
    "data_test['Embarked']=data_test['Embarked'].apply(change_emb)  \n"
   ]
  },
  {
   "cell_type": "code",
   "execution_count": 1731,
   "id": "b2a5f483",
   "metadata": {},
   "outputs": [
    {
     "data": {
      "text/html": [
       "<div>\n",
       "<style scoped>\n",
       "    .dataframe tbody tr th:only-of-type {\n",
       "        vertical-align: middle;\n",
       "    }\n",
       "\n",
       "    .dataframe tbody tr th {\n",
       "        vertical-align: top;\n",
       "    }\n",
       "\n",
       "    .dataframe thead th {\n",
       "        text-align: right;\n",
       "    }\n",
       "</style>\n",
       "<table border=\"1\" class=\"dataframe\">\n",
       "  <thead>\n",
       "    <tr style=\"text-align: right;\">\n",
       "      <th></th>\n",
       "      <th>Sex</th>\n",
       "      <th>Pclass</th>\n",
       "      <th>Embarked</th>\n",
       "    </tr>\n",
       "  </thead>\n",
       "  <tbody>\n",
       "    <tr>\n",
       "      <th>0</th>\n",
       "      <td>1</td>\n",
       "      <td>3</td>\n",
       "      <td>1</td>\n",
       "    </tr>\n",
       "    <tr>\n",
       "      <th>1</th>\n",
       "      <td>0</td>\n",
       "      <td>3</td>\n",
       "      <td>1</td>\n",
       "    </tr>\n",
       "    <tr>\n",
       "      <th>2</th>\n",
       "      <td>0</td>\n",
       "      <td>1</td>\n",
       "      <td>0</td>\n",
       "    </tr>\n",
       "    <tr>\n",
       "      <th>3</th>\n",
       "      <td>1</td>\n",
       "      <td>2</td>\n",
       "      <td>1</td>\n",
       "    </tr>\n",
       "    <tr>\n",
       "      <th>4</th>\n",
       "      <td>0</td>\n",
       "      <td>1</td>\n",
       "      <td>0</td>\n",
       "    </tr>\n",
       "    <tr>\n",
       "      <th>...</th>\n",
       "      <td>...</td>\n",
       "      <td>...</td>\n",
       "      <td>...</td>\n",
       "    </tr>\n",
       "    <tr>\n",
       "      <th>99995</th>\n",
       "      <td>0</td>\n",
       "      <td>3</td>\n",
       "      <td>2</td>\n",
       "    </tr>\n",
       "    <tr>\n",
       "      <th>99996</th>\n",
       "      <td>1</td>\n",
       "      <td>1</td>\n",
       "      <td>1</td>\n",
       "    </tr>\n",
       "    <tr>\n",
       "      <th>99997</th>\n",
       "      <td>1</td>\n",
       "      <td>3</td>\n",
       "      <td>1</td>\n",
       "    </tr>\n",
       "    <tr>\n",
       "      <th>99998</th>\n",
       "      <td>0</td>\n",
       "      <td>1</td>\n",
       "      <td>0</td>\n",
       "    </tr>\n",
       "    <tr>\n",
       "      <th>99999</th>\n",
       "      <td>0</td>\n",
       "      <td>1</td>\n",
       "      <td>0</td>\n",
       "    </tr>\n",
       "  </tbody>\n",
       "</table>\n",
       "<p>100000 rows × 3 columns</p>\n",
       "</div>"
      ],
      "text/plain": [
       "       Sex  Pclass  Embarked\n",
       "0        1       3         1\n",
       "1        0       3         1\n",
       "2        0       1         0\n",
       "3        1       2         1\n",
       "4        0       1         0\n",
       "...    ...     ...       ...\n",
       "99995    0       3         2\n",
       "99996    1       1         1\n",
       "99997    1       3         1\n",
       "99998    0       1         0\n",
       "99999    0       1         0\n",
       "\n",
       "[100000 rows x 3 columns]"
      ]
     },
     "execution_count": 1731,
     "metadata": {},
     "output_type": "execute_result"
    }
   ],
   "source": [
    "data_test [feature_names2]"
   ]
  },
  {
   "cell_type": "code",
   "execution_count": 1732,
   "id": "828b450a",
   "metadata": {},
   "outputs": [
    {
     "data": {
      "text/html": [
       "<div>\n",
       "<style scoped>\n",
       "    .dataframe tbody tr th:only-of-type {\n",
       "        vertical-align: middle;\n",
       "    }\n",
       "\n",
       "    .dataframe tbody tr th {\n",
       "        vertical-align: top;\n",
       "    }\n",
       "\n",
       "    .dataframe thead th {\n",
       "        text-align: right;\n",
       "    }\n",
       "</style>\n",
       "<table border=\"1\" class=\"dataframe\">\n",
       "  <thead>\n",
       "    <tr style=\"text-align: right;\">\n",
       "      <th></th>\n",
       "      <th>Survived</th>\n",
       "    </tr>\n",
       "  </thead>\n",
       "  <tbody>\n",
       "    <tr>\n",
       "      <th>0</th>\n",
       "      <td>0</td>\n",
       "    </tr>\n",
       "    <tr>\n",
       "      <th>1</th>\n",
       "      <td>1</td>\n",
       "    </tr>\n",
       "    <tr>\n",
       "      <th>2</th>\n",
       "      <td>1</td>\n",
       "    </tr>\n",
       "    <tr>\n",
       "      <th>3</th>\n",
       "      <td>0</td>\n",
       "    </tr>\n",
       "    <tr>\n",
       "      <th>4</th>\n",
       "      <td>1</td>\n",
       "    </tr>\n",
       "    <tr>\n",
       "      <th>...</th>\n",
       "      <td>...</td>\n",
       "    </tr>\n",
       "    <tr>\n",
       "      <th>99995</th>\n",
       "      <td>1</td>\n",
       "    </tr>\n",
       "    <tr>\n",
       "      <th>99996</th>\n",
       "      <td>0</td>\n",
       "    </tr>\n",
       "    <tr>\n",
       "      <th>99997</th>\n",
       "      <td>0</td>\n",
       "    </tr>\n",
       "    <tr>\n",
       "      <th>99998</th>\n",
       "      <td>1</td>\n",
       "    </tr>\n",
       "    <tr>\n",
       "      <th>99999</th>\n",
       "      <td>1</td>\n",
       "    </tr>\n",
       "  </tbody>\n",
       "</table>\n",
       "<p>100000 rows × 1 columns</p>\n",
       "</div>"
      ],
      "text/plain": [
       "       Survived\n",
       "0             0\n",
       "1             1\n",
       "2             1\n",
       "3             0\n",
       "4             1\n",
       "...         ...\n",
       "99995         1\n",
       "99996         0\n",
       "99997         0\n",
       "99998         1\n",
       "99999         1\n",
       "\n",
       "[100000 rows x 1 columns]"
      ]
     },
     "execution_count": 1732,
     "metadata": {},
     "output_type": "execute_result"
    }
   ],
   "source": [
    "result= pd.DataFrame(knn4.predict(data_test[feature_names2])).rename(columns={0:'Survived'})\n",
    "result"
   ]
  },
  {
   "cell_type": "code",
   "execution_count": 1733,
   "id": "a7946274",
   "metadata": {},
   "outputs": [
    {
     "data": {
      "text/html": [
       "<div>\n",
       "<style scoped>\n",
       "    .dataframe tbody tr th:only-of-type {\n",
       "        vertical-align: middle;\n",
       "    }\n",
       "\n",
       "    .dataframe tbody tr th {\n",
       "        vertical-align: top;\n",
       "    }\n",
       "\n",
       "    .dataframe thead th {\n",
       "        text-align: right;\n",
       "    }\n",
       "</style>\n",
       "<table border=\"1\" class=\"dataframe\">\n",
       "  <thead>\n",
       "    <tr style=\"text-align: right;\">\n",
       "      <th></th>\n",
       "      <th>PassengerId</th>\n",
       "    </tr>\n",
       "  </thead>\n",
       "  <tbody>\n",
       "    <tr>\n",
       "      <th>0</th>\n",
       "      <td>100000</td>\n",
       "    </tr>\n",
       "    <tr>\n",
       "      <th>1</th>\n",
       "      <td>100001</td>\n",
       "    </tr>\n",
       "    <tr>\n",
       "      <th>2</th>\n",
       "      <td>100002</td>\n",
       "    </tr>\n",
       "    <tr>\n",
       "      <th>3</th>\n",
       "      <td>100003</td>\n",
       "    </tr>\n",
       "    <tr>\n",
       "      <th>4</th>\n",
       "      <td>100004</td>\n",
       "    </tr>\n",
       "    <tr>\n",
       "      <th>...</th>\n",
       "      <td>...</td>\n",
       "    </tr>\n",
       "    <tr>\n",
       "      <th>99995</th>\n",
       "      <td>199995</td>\n",
       "    </tr>\n",
       "    <tr>\n",
       "      <th>99996</th>\n",
       "      <td>199996</td>\n",
       "    </tr>\n",
       "    <tr>\n",
       "      <th>99997</th>\n",
       "      <td>199997</td>\n",
       "    </tr>\n",
       "    <tr>\n",
       "      <th>99998</th>\n",
       "      <td>199998</td>\n",
       "    </tr>\n",
       "    <tr>\n",
       "      <th>99999</th>\n",
       "      <td>199999</td>\n",
       "    </tr>\n",
       "  </tbody>\n",
       "</table>\n",
       "<p>100000 rows × 1 columns</p>\n",
       "</div>"
      ],
      "text/plain": [
       "       PassengerId\n",
       "0           100000\n",
       "1           100001\n",
       "2           100002\n",
       "3           100003\n",
       "4           100004\n",
       "...            ...\n",
       "99995       199995\n",
       "99996       199996\n",
       "99997       199997\n",
       "99998       199998\n",
       "99999       199999\n",
       "\n",
       "[100000 rows x 1 columns]"
      ]
     },
     "execution_count": 1733,
     "metadata": {},
     "output_type": "execute_result"
    }
   ],
   "source": [
    "res1=data_test['PassengerId'].to_frame()\n",
    "res1"
   ]
  },
  {
   "cell_type": "code",
   "execution_count": 1734,
   "id": "7e81d49e",
   "metadata": {},
   "outputs": [],
   "source": [
    "result2 = pd.concat([res1, result], axis=1)"
   ]
  },
  {
   "cell_type": "code",
   "execution_count": 1735,
   "id": "ec258bd5",
   "metadata": {},
   "outputs": [
    {
     "data": {
      "text/html": [
       "<div>\n",
       "<style scoped>\n",
       "    .dataframe tbody tr th:only-of-type {\n",
       "        vertical-align: middle;\n",
       "    }\n",
       "\n",
       "    .dataframe tbody tr th {\n",
       "        vertical-align: top;\n",
       "    }\n",
       "\n",
       "    .dataframe thead th {\n",
       "        text-align: right;\n",
       "    }\n",
       "</style>\n",
       "<table border=\"1\" class=\"dataframe\">\n",
       "  <thead>\n",
       "    <tr style=\"text-align: right;\">\n",
       "      <th></th>\n",
       "      <th>PassengerId</th>\n",
       "      <th>Survived</th>\n",
       "    </tr>\n",
       "  </thead>\n",
       "  <tbody>\n",
       "    <tr>\n",
       "      <th>0</th>\n",
       "      <td>100000</td>\n",
       "      <td>0</td>\n",
       "    </tr>\n",
       "    <tr>\n",
       "      <th>1</th>\n",
       "      <td>100001</td>\n",
       "      <td>1</td>\n",
       "    </tr>\n",
       "    <tr>\n",
       "      <th>2</th>\n",
       "      <td>100002</td>\n",
       "      <td>1</td>\n",
       "    </tr>\n",
       "    <tr>\n",
       "      <th>3</th>\n",
       "      <td>100003</td>\n",
       "      <td>0</td>\n",
       "    </tr>\n",
       "    <tr>\n",
       "      <th>4</th>\n",
       "      <td>100004</td>\n",
       "      <td>1</td>\n",
       "    </tr>\n",
       "    <tr>\n",
       "      <th>...</th>\n",
       "      <td>...</td>\n",
       "      <td>...</td>\n",
       "    </tr>\n",
       "    <tr>\n",
       "      <th>99995</th>\n",
       "      <td>199995</td>\n",
       "      <td>1</td>\n",
       "    </tr>\n",
       "    <tr>\n",
       "      <th>99996</th>\n",
       "      <td>199996</td>\n",
       "      <td>0</td>\n",
       "    </tr>\n",
       "    <tr>\n",
       "      <th>99997</th>\n",
       "      <td>199997</td>\n",
       "      <td>0</td>\n",
       "    </tr>\n",
       "    <tr>\n",
       "      <th>99998</th>\n",
       "      <td>199998</td>\n",
       "      <td>1</td>\n",
       "    </tr>\n",
       "    <tr>\n",
       "      <th>99999</th>\n",
       "      <td>199999</td>\n",
       "      <td>1</td>\n",
       "    </tr>\n",
       "  </tbody>\n",
       "</table>\n",
       "<p>100000 rows × 2 columns</p>\n",
       "</div>"
      ],
      "text/plain": [
       "       PassengerId  Survived\n",
       "0           100000         0\n",
       "1           100001         1\n",
       "2           100002         1\n",
       "3           100003         0\n",
       "4           100004         1\n",
       "...            ...       ...\n",
       "99995       199995         1\n",
       "99996       199996         0\n",
       "99997       199997         0\n",
       "99998       199998         1\n",
       "99999       199999         1\n",
       "\n",
       "[100000 rows x 2 columns]"
      ]
     },
     "execution_count": 1735,
     "metadata": {},
     "output_type": "execute_result"
    }
   ],
   "source": [
    "result2"
   ]
  },
  {
   "cell_type": "code",
   "execution_count": 1736,
   "id": "aefeb483",
   "metadata": {},
   "outputs": [],
   "source": [
    "final=result2.set_index('PassengerId')"
   ]
  },
  {
   "cell_type": "code",
   "execution_count": 1737,
   "id": "9ae89973",
   "metadata": {},
   "outputs": [
    {
     "data": {
      "text/html": [
       "<div>\n",
       "<style scoped>\n",
       "    .dataframe tbody tr th:only-of-type {\n",
       "        vertical-align: middle;\n",
       "    }\n",
       "\n",
       "    .dataframe tbody tr th {\n",
       "        vertical-align: top;\n",
       "    }\n",
       "\n",
       "    .dataframe thead th {\n",
       "        text-align: right;\n",
       "    }\n",
       "</style>\n",
       "<table border=\"1\" class=\"dataframe\">\n",
       "  <thead>\n",
       "    <tr style=\"text-align: right;\">\n",
       "      <th></th>\n",
       "      <th>Survived</th>\n",
       "    </tr>\n",
       "    <tr>\n",
       "      <th>PassengerId</th>\n",
       "      <th></th>\n",
       "    </tr>\n",
       "  </thead>\n",
       "  <tbody>\n",
       "    <tr>\n",
       "      <th>100000</th>\n",
       "      <td>0</td>\n",
       "    </tr>\n",
       "    <tr>\n",
       "      <th>100001</th>\n",
       "      <td>1</td>\n",
       "    </tr>\n",
       "    <tr>\n",
       "      <th>100002</th>\n",
       "      <td>1</td>\n",
       "    </tr>\n",
       "    <tr>\n",
       "      <th>100003</th>\n",
       "      <td>0</td>\n",
       "    </tr>\n",
       "    <tr>\n",
       "      <th>100004</th>\n",
       "      <td>1</td>\n",
       "    </tr>\n",
       "    <tr>\n",
       "      <th>...</th>\n",
       "      <td>...</td>\n",
       "    </tr>\n",
       "    <tr>\n",
       "      <th>199995</th>\n",
       "      <td>1</td>\n",
       "    </tr>\n",
       "    <tr>\n",
       "      <th>199996</th>\n",
       "      <td>0</td>\n",
       "    </tr>\n",
       "    <tr>\n",
       "      <th>199997</th>\n",
       "      <td>0</td>\n",
       "    </tr>\n",
       "    <tr>\n",
       "      <th>199998</th>\n",
       "      <td>1</td>\n",
       "    </tr>\n",
       "    <tr>\n",
       "      <th>199999</th>\n",
       "      <td>1</td>\n",
       "    </tr>\n",
       "  </tbody>\n",
       "</table>\n",
       "<p>100000 rows × 1 columns</p>\n",
       "</div>"
      ],
      "text/plain": [
       "             Survived\n",
       "PassengerId          \n",
       "100000              0\n",
       "100001              1\n",
       "100002              1\n",
       "100003              0\n",
       "100004              1\n",
       "...               ...\n",
       "199995              1\n",
       "199996              0\n",
       "199997              0\n",
       "199998              1\n",
       "199999              1\n",
       "\n",
       "[100000 rows x 1 columns]"
      ]
     },
     "execution_count": 1737,
     "metadata": {},
     "output_type": "execute_result"
    }
   ],
   "source": [
    "final"
   ]
  },
  {
   "cell_type": "code",
   "execution_count": 1738,
   "id": "3eeb5e89",
   "metadata": {},
   "outputs": [],
   "source": [
    "final.to_csv('final.csv')\n"
   ]
  },
  {
   "cell_type": "markdown",
   "id": "43960866",
   "metadata": {},
   "source": [
    "ссылка на результат в каддле:"
   ]
  },
  {
   "cell_type": "markdown",
   "id": "6a7bbf66",
   "metadata": {},
   "source": [
    "https://www.kaggle.com/competitions/tabular-playground-series-apr-2021/leaderboard"
   ]
  },
  {
   "cell_type": "code",
   "execution_count": null,
   "id": "234ffb6f",
   "metadata": {},
   "outputs": [],
   "source": []
  }
 ],
 "metadata": {
  "kernelspec": {
   "display_name": "Python 3 (ipykernel)",
   "language": "python",
   "name": "python3"
  },
  "language_info": {
   "codemirror_mode": {
    "name": "ipython",
    "version": 3
   },
   "file_extension": ".py",
   "mimetype": "text/x-python",
   "name": "python",
   "nbconvert_exporter": "python",
   "pygments_lexer": "ipython3",
   "version": "3.9.5"
  }
 },
 "nbformat": 4,
 "nbformat_minor": 5
}
