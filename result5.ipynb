{
 "cells": [
  {
   "cell_type": "code",
   "execution_count": 78,
   "id": "f30b9b63",
   "metadata": {},
   "outputs": [],
   "source": [
    "import numpy as np\n",
    "import pandas as pd\n",
    "import seaborn as sns\n",
    "import matplotlib.pyplot as plt\n",
    "\n",
    "from sklearn.impute import SimpleImputer\n",
    "from sklearn.preprocessing import StandardScaler, MinMaxScaler, OrdinalEncoder, OneHotEncoder\n",
    "from sklearn.decomposition import PCA\n",
    "\n",
    "from sklearn.feature_selection import VarianceThreshold, SelectFromModel, RFECV, SequentialFeatureSelector\n",
    "\n",
    "from sklearn.ensemble import RandomForestClassifier, RandomForestRegressor\n",
    "from sklearn.linear_model import LogisticRegression\n",
    "\n",
    "from sklearn.model_selection import KFold, cross_val_score, train_test_split\n",
    "from sklearn.pipeline import Pipeline, make_pipeline\n",
    "from sklearn.metrics import accuracy_score\n",
    "\n",
    "from sklearn.datasets import make_classification, load_wine, load_breast_cancer, load_diabetes, load_digits"
   ]
  },
  {
   "cell_type": "code",
   "execution_count": 79,
   "id": "631b89f2",
   "metadata": {},
   "outputs": [],
   "source": [
    "plt.style.use('seaborn-darkgrid')"
   ]
  },
  {
   "cell_type": "code",
   "execution_count": 80,
   "id": "7d156df6",
   "metadata": {},
   "outputs": [],
   "source": [
    "def plot_scatter(x, y, auto_scaled=True, title=None, clusters=None):\n",
    "    plt.figure(figsize=(4, 4))\n",
    "    plt.scatter(x, y, c=clusters, cmap='bwr')\n",
    "    \n",
    "    if not auto_scaled:\n",
    "        plt.axis('square')\n",
    "    \n",
    "    plt.grid(True)\n",
    "    plt.title(title)\n",
    "    \n",
    "    plt.show()\n",
    "    \n",
    "def return_X_y(data, target_column):\n",
    "    return data.drop(target_column, axis=1), data[target_column]"
   ]
  },
  {
   "cell_type": "code",
   "execution_count": 110,
   "id": "1ff396e2",
   "metadata": {},
   "outputs": [],
   "source": [
    "wine_sklearn = load_wine(as_frame=True)\n",
    "wine_data, wine_labels = wine_sklearn['data'], wine_sklearn['target']"
   ]
  },
  {
   "cell_type": "markdown",
   "id": "99046c55",
   "metadata": {},
   "source": [
    "# Homework"
   ]
  },
  {
   "cell_type": "markdown",
   "id": "3043af4c",
   "metadata": {},
   "source": [
    "# Exercise 1 - Scaling (2 points)"
   ]
  },
  {
   "cell_type": "markdown",
   "id": "f5a9961c",
   "metadata": {},
   "source": [
    "Perform standardization for wine dataset (wine_data) using only basic python, numpy and pandas (without using StandardScaler and sklearn at all). Implementation of function (or class) that can get dataset as input and return standardized dataset as output is preferrable, but not necessary.\n",
    "\n",
    "Compare you results (output) with StandardScaler.\n",
    "\n",
    "NOTE:\n",
    "\n",
    "1 point for functional version, \n",
    "2 points for implementing scaling as sklearn pipeline compartible class.\n",
    "Maximum for the exercise is 2 points."
   ]
  },
  {
   "cell_type": "markdown",
   "id": "4e6c64ea",
   "metadata": {},
   "source": [
    "# Simple version (1 point)"
   ]
  },
  {
   "cell_type": "code",
   "execution_count": 119,
   "id": "b8530e43",
   "metadata": {},
   "outputs": [],
   "source": [
    "def scale(X):\n",
    "    df=X.copy()\n",
    "    for i in df.columns:\n",
    "        st=np.std(df.loc[:,i])\n",
    "        df.loc[:,i]=(df.loc[:,i]-df.loc[:,i].mean())/st\n",
    "    return df  \n"
   ]
  },
  {
   "cell_type": "code",
   "execution_count": 121,
   "id": "13f3615e",
   "metadata": {},
   "outputs": [],
   "source": [
    "assert np.allclose(np.array(scale(wine_data)), StandardScaler().fit_transform(wine_data))"
   ]
  },
  {
   "cell_type": "markdown",
   "id": "d0ca3a1d",
   "metadata": {},
   "source": [
    "# Exercise 2 - Visualization (3 points)"
   ]
  },
  {
   "cell_type": "markdown",
   "id": "dec30381",
   "metadata": {},
   "source": [
    "As noted earlier, standardization/normalization of data can be crucial for some distance-based ML methods.\n",
    "\n",
    "Let’s generate some toy example of unnormalized data and visualize the importance of this process once more:"
   ]
  },
  {
   "cell_type": "code",
   "execution_count": 173,
   "id": "0d7287ad",
   "metadata": {},
   "outputs": [
    {
     "data": {
      "text/plain": [
       "array([[ -5.01675562,   0.46511988],\n",
       "       [ -8.1758142 ,   1.10834213],\n",
       "       [  6.10491722,  -0.08415613],\n",
       "       ...,\n",
       "       [  2.11643382,   3.86400223],\n",
       "       [-12.2340118 ,   3.77718975],\n",
       "       [  1.01699894,   4.58239645]])"
      ]
     },
     "execution_count": 173,
     "metadata": {},
     "output_type": "execute_result"
    }
   ],
   "source": [
    "feature_0 = np.random.randn(1000) * 10   \n",
    "feature_1 = np.concatenate([np.random.randn(500), np.random.randn(500) + 5])\n",
    "data = np.column_stack([feature_0, feature_1])\n",
    "data"
   ]
  },
  {
   "cell_type": "code",
   "execution_count": 174,
   "id": "ad880ac8",
   "metadata": {},
   "outputs": [
    {
     "data": {
      "image/png": "[encoded data removed]",
      "text/plain": [
       "<Figure size 288x288 with 1 Axes>"
      ]
     },
     "metadata": {},
     "output_type": "display_data"
    }
   ],
   "source": [
    "plot_scatter(data[:, 0], data[:, 1], auto_scaled=True, title='Data (different axes units!)')"
   ]
  },
  {
   "cell_type": "markdown",
   "id": "db1bc59b",
   "metadata": {},
   "source": [
    "NOTE: on the plot above axes are scaled differently and we can clearly see two potential classes/clusters. In fact matplotlib performed autoscaling (which is basically can be considered as MinMaxScaling of original data) just for better visualization purposes.\n",
    "\n",
    "Let's turn this feature off and visualize the original data on the plot with equally scaled axes:"
   ]
  },
  {
   "cell_type": "code",
   "execution_count": 175,
   "id": "e93687c4",
   "metadata": {},
   "outputs": [
    {
     "data": {
      "image/png": "[encoded data removed]",
      "text/plain": [
       "<Figure size 288x288 with 1 Axes>"
      ]
     },
     "metadata": {},
     "output_type": "display_data"
    }
   ],
   "source": [
    "plot_scatter(data[:, 0], data[:, 1], auto_scaled=False , title='Data (equal axes units!)')"
   ]
  },
  {
   "cell_type": "markdown",
   "id": "bd9925b0",
   "metadata": {},
   "source": [
    "This picture is clearly less interpretable, but much closer to \"how distance-based algorithm see the original data\": separability of data is hardly noticable only because the variation (std) of x-feature is much bigger in absolute numbers.\n",
    "\n",
    "Perform StandardScaling and MinMaxScaling of original data; visualize results for each case (use plot_scatter with auto_scaled=False):"
   ]
  },
  {
   "cell_type": "markdown",
   "id": "d4b80bb2",
   "metadata": {},
   "source": [
    "# MinMaxScaling (0.5 point)"
   ]
  },
  {
   "cell_type": "code",
   "execution_count": 176,
   "id": "ae51d440",
   "metadata": {},
   "outputs": [],
   "source": [
    "x_values=(data[:,0]-data[:,0].min())/(data[:,0].max()-data[:,0].min())\n",
    "y_valyes=(data[:,1]-data[:,1].min())/(data[:,1].max()-data[:,1].min())"
   ]
  },
  {
   "cell_type": "code",
   "execution_count": 177,
   "id": "b6e15d73",
   "metadata": {},
   "outputs": [
    {
     "data": {
      "image/png": "[encoded data removed]",
      "text/plain": [
       "<Figure size 288x288 with 1 Axes>"
      ]
     },
     "metadata": {},
     "output_type": "display_data"
    }
   ],
   "source": [
    "plot_scatter(x_values, y_valyes, auto_scaled=False , title='Data with MinMaxScaling')"
   ]
  },
  {
   "cell_type": "markdown",
   "id": "5f69ca37",
   "metadata": {},
   "source": [
    "# StandardScaler (0.5 point)"
   ]
  },
  {
   "cell_type": "code",
   "execution_count": 178,
   "id": "37452e8b",
   "metadata": {},
   "outputs": [],
   "source": [
    "x_values1=(data[:,0]-data[:,0].mean())/(data[:,0].std())\n",
    "y_valyes1=(data[:,1]-data[:,1].mean())/(data[:,1].std())"
   ]
  },
  {
   "cell_type": "code",
   "execution_count": 179,
   "id": "15ff3e2a",
   "metadata": {},
   "outputs": [
    {
     "data": {
      "image/png": "[encoded data removed]",
      "text/plain": [
       "<Figure size 288x288 with 1 Axes>"
      ]
     },
     "metadata": {},
     "output_type": "display_data"
    }
   ],
   "source": [
    "plot_scatter(x_values1, y_valyes1, auto_scaled=False , title='Data with StandardScaling ')"
   ]
  },
  {
   "cell_type": "markdown",
   "id": "3aa0db8d",
   "metadata": {},
   "source": [
    "# (Bonus) K-means (2 points)"
   ]
  },
  {
   "cell_type": "markdown",
   "id": "5d8a4b63",
   "metadata": {},
   "source": [
    "Illustrate the impact of scaling on basic distance-based clustering algorithm K-means using data generated above.\n",
    "\n",
    "NOTE: basically, you don't need understanding K-means algorithm here, you just need to:\n",
    "\n",
    "1) run algorithm (with k=2, k - number of clusters/classes) on unscaled data\n",
    "2) run algorithm (with k=2) on scaled data\n",
    "3) plot results: highlight different clusters using different colors.\n",
    "\n",
    "You can use this question as a hint, but I recommend you to plot results using plot_scatter with equal_scaled=True: it might help you to intuitively understand the reasons of such scaling impact."
   ]
  },
  {
   "cell_type": "code",
   "execution_count": 195,
   "id": "53bde73c",
   "metadata": {},
   "outputs": [
    {
     "data": {
      "image/png": "[encoded data removed]",
      "text/plain": [
       "<Figure size 288x288 with 1 Axes>"
      ]
     },
     "metadata": {},
     "output_type": "display_data"
    }
   ],
   "source": [
    "from sklearn.cluster import KMeans\n",
    "km = KMeans(2)\n",
    "\n",
    "clusters1 = km.fit_predict(np.array(data))\n",
    "plot_scatter(data[:,0],data[:,1], auto_scaled=False, clusters=clusters1)\n",
    "\n",
    "data2 = np.column_stack([x_values, y_valyes])\n",
    "clusters2 = km.fit_predict(np.array(data2))\n"
   ]
  },
  {
   "cell_type": "code",
   "execution_count": 194,
   "id": "381a7fd1",
   "metadata": {},
   "outputs": [
    {
     "data": {
      "image/png": "[encoded data removed]",
      "text/plain": [
       "<Figure size 288x288 with 1 Axes>"
      ]
     },
     "metadata": {},
     "output_type": "display_data"
    }
   ],
   "source": [
    "data2 = np.column_stack([x_values, y_valyes])\n",
    "clusters2 = km.fit_predict(np.array(data2))\n",
    "plot_scatter(x_values, y_valyes, auto_scaled=False, clusters=clusters2)"
   ]
  },
  {
   "cell_type": "markdown",
   "id": "3ef77d92",
   "metadata": {},
   "source": [
    "# Exercise 3 - Preprocessing Pipeline (2 points)"
   ]
  },
  {
   "cell_type": "code",
   "execution_count": 190,
   "id": "5db7e1b7",
   "metadata": {},
   "outputs": [],
   "source": [
    "wine_train, wine_val, wine_labels_train, wine_labels_val = train_test_split(wine_data, wine_labels, \n",
    "                                                                            test_size=0.3, random_state=42)"
   ]
  },
  {
   "cell_type": "markdown",
   "id": "f9f9f040",
   "metadata": {},
   "source": [
    "Train model (for example, LogisticRegression(solver='liblinear', penalty='l1') on raw wine_train data; then train same model after data scaling; then add feature selection (and train model again on scaled data). For each experiment all required preprocessing steps (if any) should be wrapped into sklearn pipeline.\n",
    "\n",
    "Measure accuracy of all 3 approaches on wine_val dataset. Describe and explain results."
   ]
  },
  {
   "cell_type": "code",
   "execution_count": 201,
   "id": "00f96de4",
   "metadata": {},
   "outputs": [
    {
     "name": "stdout",
     "output_type": "stream",
     "text": [
      "train accuracy:  0.967741935483871 \n",
      "test accuracy:  0.9814814814814815 \n"
     ]
    }
   ],
   "source": [
    "#Train model on raw wine_train data\n",
    "from sklearn.linear_model import LogisticRegression\n",
    "model = LogisticRegression(solver='liblinear', penalty='l1')\n",
    "pipe1=Pipeline(steps=[('regression', model)])\n",
    "pipe1.fit(wine_train, wine_labels_train)\n",
    "print(f'train accuracy:  {pipe1.score(wine_train, wine_labels_train)} ')\n",
    "print (f'test accuracy:  {pipe1.score(wine_val, wine_labels_val)} ')"
   ]
  },
  {
   "cell_type": "code",
   "execution_count": 202,
   "id": "799752f9",
   "metadata": {},
   "outputs": [
    {
     "name": "stdout",
     "output_type": "stream",
     "text": [
      "train accuracy:  0.967741935483871 \n",
      "test accuracy:  1.0 \n"
     ]
    }
   ],
   "source": [
    "#Train model after data scaling\n",
    "scaler=MinMaxScaler()\n",
    "pipe2=Pipeline(steps=[('scalling', scaler), ('regression', model)])\n",
    "pipe2.fit(wine_train, wine_labels_train)\n",
    "print(f'train accuracy:  {pipe2.score(wine_train, wine_labels_train)} ')\n",
    "print (f'test accuracy:  {pipe2.score(wine_val, wine_labels_val)} ')"
   ]
  },
  {
   "cell_type": "code",
   "execution_count": 208,
   "id": "cfaab401",
   "metadata": {},
   "outputs": [
    {
     "name": "stdout",
     "output_type": "stream",
     "text": [
      "train accuracy:  0.967741935483871 \n",
      "test accuracy:  1.0 \n"
     ]
    }
   ],
   "source": [
    "#Train model after data scaling and feature selection\n",
    "from sklearn.feature_selection import VarianceThreshold\n",
    "sel = VarianceThreshold()\n",
    "pipe3=Pipeline(steps=[('selection', sel), ('scalling', scaler), ('regression', model)])\n",
    "pipe3.fit(wine_train, wine_labels_train)\n",
    "print(f'train accuracy:  {pipe3.score(wine_train, wine_labels_train)} ')\n",
    "print (f'test accuracy:  {pipe3.score(wine_val, wine_labels_val)} ')"
   ]
  },
  {
   "cell_type": "markdown",
   "id": "cfcd8516",
   "metadata": {},
   "source": [
    "Наименьшая точность без стандартизации. После стандартизации ( или стандартизации и отбора признаков) точность выше. Это еще раз доказывает важность предподготовки данных\n"
   ]
  },
  {
   "cell_type": "markdown",
   "id": "51d7762e",
   "metadata": {},
   "source": [
    "# Exercise 4 - manual PCA (5 points)"
   ]
  },
  {
   "cell_type": "markdown",
   "id": "7ba31a3c",
   "metadata": {},
   "source": [
    "Additional 2 point are given for visualization of the results."
   ]
  },
  {
   "cell_type": "markdown",
   "id": "6b342ac3",
   "metadata": {},
   "source": [
    "# PCA (3 points)"
   ]
  },
  {
   "cell_type": "code",
   "execution_count": 209,
   "id": "b4bcd27b",
   "metadata": {},
   "outputs": [],
   "source": [
    "wine_data, wine_labels = wine_sklearn['data'], wine_sklearn['target']"
   ]
  },
  {
   "cell_type": "markdown",
   "id": "17f248f9",
   "metadata": {},
   "source": [
    "Find a covariance matrix of standartized data and assing it to S."
   ]
  },
  {
   "cell_type": "code",
   "execution_count": 222,
   "id": "854a92d9",
   "metadata": {},
   "outputs": [],
   "source": [
    "s=StandardScaler().fit_transform(wine_data)\n",
    "S=np.cov(s.T)"
   ]
  },
  {
   "cell_type": "markdown",
   "id": "67415eb2",
   "metadata": {},
   "source": [
    "If your code is correct, the following assert should be Ok."
   ]
  },
  {
   "cell_type": "code",
   "execution_count": 223,
   "id": "a72eb8ee",
   "metadata": {},
   "outputs": [],
   "source": [
    "assert np.allclose(np.linalg.norm(S), 5.787241159764733)"
   ]
  },
  {
   "cell_type": "code",
   "execution_count": null,
   "id": "a843070f",
   "metadata": {},
   "outputs": [],
   "source": [
    "\n"
   ]
  },
  {
   "cell_type": "code",
   "execution_count": null,
   "id": "b059acdd",
   "metadata": {},
   "outputs": [],
   "source": []
  },
  {
   "cell_type": "markdown",
   "id": "49c41f62",
   "metadata": {},
   "source": [
    "# Exercise 5 - Boruta (3 points)"
   ]
  },
  {
   "cell_type": "markdown",
   "id": "ade77e1f",
   "metadata": {},
   "source": [
    "Let us classify handwritten digits 0, 1 and 2. To make task not so easy the images are binarized (no shadows of gray present) as it happens with xerocopied documents.\n",
    "\n",
    "Let us also find out to which parts of an image there's no need to look in order to clasify three digits of interest."
   ]
  },
  {
   "cell_type": "code",
   "execution_count": 237,
   "id": "535c5b21",
   "metadata": {},
   "outputs": [],
   "source": [
    "X, y = load_digits(n_class=3, return_X_y=True, as_frame=True)\n",
    "X = (X>10).astype(int)"
   ]
  },
  {
   "cell_type": "code",
   "execution_count": 238,
   "id": "6fc6fb7d",
   "metadata": {},
   "outputs": [
    {
     "data": {
      "image/png": "[encoded data removed]",
      "text/plain": [
       "<Figure size 720x288 with 3 Axes>"
      ]
     },
     "metadata": {},
     "output_type": "display_data"
    }
   ],
   "source": [
    "f, ax = plt.subplots(1,3,figsize=(10,4))\n",
    "for i in range(3):\n",
    "    ax[i].imshow(X.iloc[i].values.reshape(8,8))\n",
    "    ax[i].set_title(f\"This is digit {y[i]}.\")\n",
    "plt.suptitle(\"First three images.\")\n",
    "plt.show()"
   ]
  },
  {
   "cell_type": "markdown",
   "id": "1f53dd41",
   "metadata": {},
   "source": [
    "Split data into train and test, let test size be 30% of the dataset and fix random state to 42:"
   ]
  },
  {
   "cell_type": "code",
   "execution_count": 244,
   "id": "299d14c3",
   "metadata": {},
   "outputs": [],
   "source": [
    "x_train, x_val, y_train, y_val = train_test_split(X, y, test_size=0.3, random_state=42)"
   ]
  },
  {
   "cell_type": "code",
   "execution_count": 245,
   "id": "24ff046c",
   "metadata": {},
   "outputs": [],
   "source": [
    "assert y_val.shape[0] == 162\n",
    "assert y_val.sum() == 169"
   ]
  },
  {
   "cell_type": "markdown",
   "id": "1a567c05",
   "metadata": {},
   "source": [
    "Fit a RandomForestClassifier with max_depth=13 and evaluate it's performance:"
   ]
  },
  {
   "cell_type": "code",
   "execution_count": 251,
   "id": "83d4382d",
   "metadata": {},
   "outputs": [
    {
     "name": "stdout",
     "output_type": "stream",
     "text": [
      "0.9876543209876543\n"
     ]
    }
   ],
   "source": [
    "clf = RandomForestClassifier(max_depth=13)\n",
    "clf.fit(x_train, y_train)\n",
    "acc = clf.score(x_val, y_val)\n",
    "print(acc)"
   ]
  },
  {
   "cell_type": "code",
   "execution_count": 252,
   "id": "069ee05a",
   "metadata": {},
   "outputs": [],
   "source": [
    "assert acc > 0.98"
   ]
  },
  {
   "cell_type": "markdown",
   "id": "0d027576",
   "metadata": {},
   "source": [
    "Now we will use Boruta to find redundand pixels. If the package is not installed in your system, uncomment and run the following cell."
   ]
  },
  {
   "cell_type": "code",
   "execution_count": 253,
   "id": "20a36288",
   "metadata": {},
   "outputs": [
    {
     "name": "stdout",
     "output_type": "stream",
     "text": [
      "Collecting boruta\n",
      "  Downloading Boruta-0.3-py3-none-any.whl (56 kB)\n",
      "Requirement already satisfied: scikit-learn>=0.17.1 in c:\\users\\yk\\miniconda3\\lib\\site-packages (from boruta) (1.0.2)\n",
      "Requirement already satisfied: scipy>=0.17.0 in c:\\users\\yk\\miniconda3\\lib\\site-packages (from boruta) (1.7.1)\n",
      "Requirement already satisfied: numpy>=1.10.4 in c:\\users\\yk\\miniconda3\\lib\\site-packages (from boruta) (1.21.5)\n",
      "Requirement already satisfied: joblib>=0.11 in c:\\users\\yk\\miniconda3\\lib\\site-packages (from scikit-learn>=0.17.1->boruta) (1.0.1)\n",
      "Requirement already satisfied: threadpoolctl>=2.0.0 in c:\\users\\yk\\miniconda3\\lib\\site-packages (from scikit-learn>=0.17.1->boruta) (3.0.0)\n",
      "Installing collected packages: boruta\n",
      "Successfully installed boruta-0.3\n"
     ]
    }
   ],
   "source": [
    "! pip install boruta"
   ]
  },
  {
   "cell_type": "code",
   "execution_count": 255,
   "id": "deb756f5",
   "metadata": {},
   "outputs": [
    {
     "name": "stdout",
     "output_type": "stream",
     "text": [
      "features in the green area: ['pixel_0_2', 'pixel_0_3', 'pixel_0_4', 'pixel_0_5', 'pixel_1_2', 'pixel_1_5', 'pixel_2_2', 'pixel_2_3', 'pixel_2_4', 'pixel_2_5', 'pixel_3_2', 'pixel_3_3', 'pixel_3_4', 'pixel_3_5', 'pixel_4_2', 'pixel_4_3', 'pixel_4_4', 'pixel_4_5', 'pixel_5_2', 'pixel_5_3', 'pixel_5_4', 'pixel_5_5', 'pixel_6_2', 'pixel_6_3', 'pixel_6_4', 'pixel_6_5', 'pixel_6_6', 'pixel_7_2', 'pixel_7_3', 'pixel_7_5', 'pixel_7_6']\n",
      "features in the blue area: ['pixel_1_4']\n"
     ]
    }
   ],
   "source": [
    "from boruta import BorutaPy\n",
    "\n",
    "feat_selector = BorutaPy(RandomForestClassifier(max_depth=13), \n",
    "                         n_estimators='auto', \n",
    "                         verbose=0, \n",
    "                         max_iter=100,\n",
    "                         random_state=42)\n",
    "feat_selector.fit(np.array(x_train), np.array(y_train))\n",
    "green_area = x_train.columns[feat_selector.support_].to_list()\n",
    "blue_area = x_train.columns[feat_selector.support_weak_].to_list()\n",
    "print('features in the green area:', green_area)\n",
    "print('features in the blue area:', blue_area)"
   ]
  },
  {
   "cell_type": "markdown",
   "id": "8d46a5bd",
   "metadata": {},
   "source": [
    "Let us print redundant pixels as a mask. Does the result looks similar to mine (or to Among us chracters)?"
   ]
  },
  {
   "cell_type": "code",
   "execution_count": 260,
   "id": "e1da6206",
   "metadata": {},
   "outputs": [
    {
     "data": {
      "image/png": "[encoded data removed]",
      "text/plain": [
       "<Figure size 432x288 with 1 Axes>"
      ]
     },
     "metadata": {},
     "output_type": "display_data"
    }
   ],
   "source": [
    "mask = np.array(feat_selector.support_).reshape(8,8)\n",
    "plt.imshow(mask);"
   ]
  },
  {
   "cell_type": "markdown",
   "id": "a8ec41b2",
   "metadata": {},
   "source": [
    "At the end let us redo classification but only with selected features"
   ]
  },
  {
   "cell_type": "code",
   "execution_count": 265,
   "id": "ee1683be",
   "metadata": {},
   "outputs": [],
   "source": [
    "clf = RandomForestClassifier(max_depth=13)\n"
   ]
  },
  {
   "cell_type": "code",
   "execution_count": 266,
   "id": "4a192eaf",
   "metadata": {},
   "outputs": [],
   "source": [
    "selected_features_test=x_val[green_area]"
   ]
  },
  {
   "cell_type": "code",
   "execution_count": 267,
   "id": "d131ea1c",
   "metadata": {},
   "outputs": [],
   "source": [
    "selected_features_train=x_train[green_area]"
   ]
  },
  {
   "cell_type": "code",
   "execution_count": 268,
   "id": "313c8b8f",
   "metadata": {},
   "outputs": [
    {
     "name": "stdout",
     "output_type": "stream",
     "text": [
      "0.9938271604938271\n"
     ]
    }
   ],
   "source": [
    "clf.fit(selected_features_train, y_train)\n",
    "acc = clf.score(selected_features_test, y_val)\n",
    "print(acc)"
   ]
  },
  {
   "cell_type": "code",
   "execution_count": 269,
   "id": "c734c889",
   "metadata": {},
   "outputs": [],
   "source": [
    "assert acc > 0.99"
   ]
  },
  {
   "cell_type": "code",
   "execution_count": null,
   "id": "4fd48119",
   "metadata": {},
   "outputs": [],
   "source": []
  }
 ],
 "metadata": {
  "kernelspec": {
   "display_name": "Python 3 (ipykernel)",
   "language": "python",
   "name": "python3"
  },
  "language_info": {
   "codemirror_mode": {
    "name": "ipython",
    "version": 3
   },
   "file_extension": ".py",
   "mimetype": "text/x-python",
   "name": "python",
   "nbconvert_exporter": "python",
   "pygments_lexer": "ipython3",
   "version": "3.9.5"
  }
 },
 "nbformat": 4,
 "nbformat_minor": 5
}
